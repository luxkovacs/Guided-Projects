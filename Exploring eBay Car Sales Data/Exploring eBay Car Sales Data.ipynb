{
 "cells": [
  {
   "cell_type": "markdown",
   "metadata": {},
   "source": [
    "# Exploring eBay Car Sales Data\n",
    "For this project, we're using a modified version of a German eBay website dataset (found [here](https://data.world/data-society/used-cars-data)), revolving around used cars.\n",
    "\n",
    "DataQuest modified the dataset in two ways:\n",
    "- They sampled 50.000 data points from the full set to ensure the code runs smoothly in our hosted environment\n",
    "- They dirtied the dataset a little to encourage practice with data cleaning\n",
    "\n",
    "The dataset includes many columns, so for posteriosity's sake, a data dictionary:\n",
    "\n",
    "| Column Name          | Description |\n",
    "|----------------------|-------------|\n",
    "| dateCrawled          | When this ad was first crawled. All field-values are taken from this date. |\n",
    "| name                 | Name of the car. |\n",
    "| seller               | Whether the seller is private or a dealer. |\n",
    "| offerType            | The type of listing. |\n",
    "| price                | The price on the ad to sell the car. |\n",
    "| abtest               | Whether the listing is included in an A/B test. |\n",
    "| vehicleType          | The type of vehicle. |\n",
    "| yearOfRegistration   | The year in which the car was first registered. |\n",
    "| gearbox              | The type of transmission. |\n",
    "| powerPS              | The power of the car in PS. |\n",
    "| model                | The car model name. |\n",
    "| odometer             | How many kilometers the car has driven. |\n",
    "| monthOfRegistration  | The month in which the car was first registered. |\n",
    "| fuelType             | What type of fuel the car uses. |\n",
    "| brand                | The brand of the car. |\n",
    "| notRepairedDamage    | If the car has a damage which is not yet repaired. |\n",
    "| dateCreated          | The date the eBay listing was created. |\n",
    "| nrOfPictures         | The number of pictures in the ad. |\n",
    "| postalCode           | The postal code for the location of the vehicle. |\n",
    "| lastSeenOnline       | When the crawler saw this ad last online. |"
   ]
  },
  {
   "cell_type": "markdown",
   "metadata": {},
   "source": [
    "## Importing libraries and the dataset\n",
    "\n",
    "Now, first we'll import the necessary libraries, read the CSV and convert it into a DataFrame."
   ]
  },
  {
   "cell_type": "code",
   "execution_count": 1,
   "metadata": {},
   "outputs": [],
   "source": [
    "import pandas as pd\n",
    "import numpy as np\n",
    "autos = pd.read_csv(\"eBay car sales.csv\", encoding=\"latin1\")"
   ]
  },
  {
   "cell_type": "markdown",
   "metadata": {},
   "source": [
    "Reading the CSV without specifying an encoding method (and thus relying on the standard `UTF-8`), will yield a `UnicodeDecodeError`. Attempting using one of the next most popular encodings, `Latin-1`, solved the error. "
   ]
  },
  {
   "cell_type": "markdown",
   "metadata": {},
   "source": [
    "## Exploring the data\n",
    "Let's also take a look at one of Jupyter Notebook's nifty features: a quick render of the dataset's first and last few values of a pandas object. We'll do this by inserting the object (`autos` in this case) into a separate cell, and then running said cell."
   ]
  },
  {
   "cell_type": "code",
   "execution_count": 2,
   "metadata": {},
   "outputs": [
    {
     "data": {
      "text/html": [
       "<div>\n",
       "<style scoped>\n",
       "    .dataframe tbody tr th:only-of-type {\n",
       "        vertical-align: middle;\n",
       "    }\n",
       "\n",
       "    .dataframe tbody tr th {\n",
       "        vertical-align: top;\n",
       "    }\n",
       "\n",
       "    .dataframe thead th {\n",
       "        text-align: right;\n",
       "    }\n",
       "</style>\n",
       "<table border=\"1\" class=\"dataframe\">\n",
       "  <thead>\n",
       "    <tr style=\"text-align: right;\">\n",
       "      <th></th>\n",
       "      <th>dateCrawled</th>\n",
       "      <th>name</th>\n",
       "      <th>seller</th>\n",
       "      <th>offerType</th>\n",
       "      <th>price</th>\n",
       "      <th>abtest</th>\n",
       "      <th>vehicleType</th>\n",
       "      <th>yearOfRegistration</th>\n",
       "      <th>gearbox</th>\n",
       "      <th>powerPS</th>\n",
       "      <th>model</th>\n",
       "      <th>odometer</th>\n",
       "      <th>monthOfRegistration</th>\n",
       "      <th>fuelType</th>\n",
       "      <th>brand</th>\n",
       "      <th>notRepairedDamage</th>\n",
       "      <th>dateCreated</th>\n",
       "      <th>nrOfPictures</th>\n",
       "      <th>postalCode</th>\n",
       "      <th>lastSeen</th>\n",
       "    </tr>\n",
       "  </thead>\n",
       "  <tbody>\n",
       "    <tr>\n",
       "      <th>0</th>\n",
       "      <td>2016-03-26 17:47:46</td>\n",
       "      <td>Peugeot_807_160_NAVTECH_ON_BOARD</td>\n",
       "      <td>privat</td>\n",
       "      <td>Angebot</td>\n",
       "      <td>$5,000</td>\n",
       "      <td>control</td>\n",
       "      <td>bus</td>\n",
       "      <td>2004</td>\n",
       "      <td>manuell</td>\n",
       "      <td>158</td>\n",
       "      <td>andere</td>\n",
       "      <td>150,000km</td>\n",
       "      <td>3</td>\n",
       "      <td>lpg</td>\n",
       "      <td>peugeot</td>\n",
       "      <td>nein</td>\n",
       "      <td>2016-03-26 00:00:00</td>\n",
       "      <td>0</td>\n",
       "      <td>79588</td>\n",
       "      <td>2016-04-06 06:45:54</td>\n",
       "    </tr>\n",
       "    <tr>\n",
       "      <th>1</th>\n",
       "      <td>2016-04-04 13:38:56</td>\n",
       "      <td>BMW_740i_4_4_Liter_HAMANN_UMBAU_Mega_Optik</td>\n",
       "      <td>privat</td>\n",
       "      <td>Angebot</td>\n",
       "      <td>$8,500</td>\n",
       "      <td>control</td>\n",
       "      <td>limousine</td>\n",
       "      <td>1997</td>\n",
       "      <td>automatik</td>\n",
       "      <td>286</td>\n",
       "      <td>7er</td>\n",
       "      <td>150,000km</td>\n",
       "      <td>6</td>\n",
       "      <td>benzin</td>\n",
       "      <td>bmw</td>\n",
       "      <td>nein</td>\n",
       "      <td>2016-04-04 00:00:00</td>\n",
       "      <td>0</td>\n",
       "      <td>71034</td>\n",
       "      <td>2016-04-06 14:45:08</td>\n",
       "    </tr>\n",
       "    <tr>\n",
       "      <th>2</th>\n",
       "      <td>2016-03-26 18:57:24</td>\n",
       "      <td>Volkswagen_Golf_1.6_United</td>\n",
       "      <td>privat</td>\n",
       "      <td>Angebot</td>\n",
       "      <td>$8,990</td>\n",
       "      <td>test</td>\n",
       "      <td>limousine</td>\n",
       "      <td>2009</td>\n",
       "      <td>manuell</td>\n",
       "      <td>102</td>\n",
       "      <td>golf</td>\n",
       "      <td>70,000km</td>\n",
       "      <td>7</td>\n",
       "      <td>benzin</td>\n",
       "      <td>volkswagen</td>\n",
       "      <td>nein</td>\n",
       "      <td>2016-03-26 00:00:00</td>\n",
       "      <td>0</td>\n",
       "      <td>35394</td>\n",
       "      <td>2016-04-06 20:15:37</td>\n",
       "    </tr>\n",
       "    <tr>\n",
       "      <th>3</th>\n",
       "      <td>2016-03-12 16:58:10</td>\n",
       "      <td>Smart_smart_fortwo_coupe_softouch/F1/Klima/Pan...</td>\n",
       "      <td>privat</td>\n",
       "      <td>Angebot</td>\n",
       "      <td>$4,350</td>\n",
       "      <td>control</td>\n",
       "      <td>kleinwagen</td>\n",
       "      <td>2007</td>\n",
       "      <td>automatik</td>\n",
       "      <td>71</td>\n",
       "      <td>fortwo</td>\n",
       "      <td>70,000km</td>\n",
       "      <td>6</td>\n",
       "      <td>benzin</td>\n",
       "      <td>smart</td>\n",
       "      <td>nein</td>\n",
       "      <td>2016-03-12 00:00:00</td>\n",
       "      <td>0</td>\n",
       "      <td>33729</td>\n",
       "      <td>2016-03-15 03:16:28</td>\n",
       "    </tr>\n",
       "    <tr>\n",
       "      <th>4</th>\n",
       "      <td>2016-04-01 14:38:50</td>\n",
       "      <td>Ford_Focus_1_6_Benzin_TÜV_neu_ist_sehr_gepfleg...</td>\n",
       "      <td>privat</td>\n",
       "      <td>Angebot</td>\n",
       "      <td>$1,350</td>\n",
       "      <td>test</td>\n",
       "      <td>kombi</td>\n",
       "      <td>2003</td>\n",
       "      <td>manuell</td>\n",
       "      <td>0</td>\n",
       "      <td>focus</td>\n",
       "      <td>150,000km</td>\n",
       "      <td>7</td>\n",
       "      <td>benzin</td>\n",
       "      <td>ford</td>\n",
       "      <td>nein</td>\n",
       "      <td>2016-04-01 00:00:00</td>\n",
       "      <td>0</td>\n",
       "      <td>39218</td>\n",
       "      <td>2016-04-01 14:38:50</td>\n",
       "    </tr>\n",
       "    <tr>\n",
       "      <th>...</th>\n",
       "      <td>...</td>\n",
       "      <td>...</td>\n",
       "      <td>...</td>\n",
       "      <td>...</td>\n",
       "      <td>...</td>\n",
       "      <td>...</td>\n",
       "      <td>...</td>\n",
       "      <td>...</td>\n",
       "      <td>...</td>\n",
       "      <td>...</td>\n",
       "      <td>...</td>\n",
       "      <td>...</td>\n",
       "      <td>...</td>\n",
       "      <td>...</td>\n",
       "      <td>...</td>\n",
       "      <td>...</td>\n",
       "      <td>...</td>\n",
       "      <td>...</td>\n",
       "      <td>...</td>\n",
       "      <td>...</td>\n",
       "    </tr>\n",
       "    <tr>\n",
       "      <th>49995</th>\n",
       "      <td>2016-03-27 14:38:19</td>\n",
       "      <td>Audi_Q5_3.0_TDI_qu._S_tr.__Navi__Panorama__Xenon</td>\n",
       "      <td>privat</td>\n",
       "      <td>Angebot</td>\n",
       "      <td>$24,900</td>\n",
       "      <td>control</td>\n",
       "      <td>limousine</td>\n",
       "      <td>2011</td>\n",
       "      <td>automatik</td>\n",
       "      <td>239</td>\n",
       "      <td>q5</td>\n",
       "      <td>100,000km</td>\n",
       "      <td>1</td>\n",
       "      <td>diesel</td>\n",
       "      <td>audi</td>\n",
       "      <td>nein</td>\n",
       "      <td>2016-03-27 00:00:00</td>\n",
       "      <td>0</td>\n",
       "      <td>82131</td>\n",
       "      <td>2016-04-01 13:47:40</td>\n",
       "    </tr>\n",
       "    <tr>\n",
       "      <th>49996</th>\n",
       "      <td>2016-03-28 10:50:25</td>\n",
       "      <td>Opel_Astra_F_Cabrio_Bertone_Edition___TÜV_neu+...</td>\n",
       "      <td>privat</td>\n",
       "      <td>Angebot</td>\n",
       "      <td>$1,980</td>\n",
       "      <td>control</td>\n",
       "      <td>cabrio</td>\n",
       "      <td>1996</td>\n",
       "      <td>manuell</td>\n",
       "      <td>75</td>\n",
       "      <td>astra</td>\n",
       "      <td>150,000km</td>\n",
       "      <td>5</td>\n",
       "      <td>benzin</td>\n",
       "      <td>opel</td>\n",
       "      <td>nein</td>\n",
       "      <td>2016-03-28 00:00:00</td>\n",
       "      <td>0</td>\n",
       "      <td>44807</td>\n",
       "      <td>2016-04-02 14:18:02</td>\n",
       "    </tr>\n",
       "    <tr>\n",
       "      <th>49997</th>\n",
       "      <td>2016-04-02 14:44:48</td>\n",
       "      <td>Fiat_500_C_1.2_Dualogic_Lounge</td>\n",
       "      <td>privat</td>\n",
       "      <td>Angebot</td>\n",
       "      <td>$13,200</td>\n",
       "      <td>test</td>\n",
       "      <td>cabrio</td>\n",
       "      <td>2014</td>\n",
       "      <td>automatik</td>\n",
       "      <td>69</td>\n",
       "      <td>500</td>\n",
       "      <td>5,000km</td>\n",
       "      <td>11</td>\n",
       "      <td>benzin</td>\n",
       "      <td>fiat</td>\n",
       "      <td>nein</td>\n",
       "      <td>2016-04-02 00:00:00</td>\n",
       "      <td>0</td>\n",
       "      <td>73430</td>\n",
       "      <td>2016-04-04 11:47:27</td>\n",
       "    </tr>\n",
       "    <tr>\n",
       "      <th>49998</th>\n",
       "      <td>2016-03-08 19:25:42</td>\n",
       "      <td>Audi_A3_2.0_TDI_Sportback_Ambition</td>\n",
       "      <td>privat</td>\n",
       "      <td>Angebot</td>\n",
       "      <td>$22,900</td>\n",
       "      <td>control</td>\n",
       "      <td>kombi</td>\n",
       "      <td>2013</td>\n",
       "      <td>manuell</td>\n",
       "      <td>150</td>\n",
       "      <td>a3</td>\n",
       "      <td>40,000km</td>\n",
       "      <td>11</td>\n",
       "      <td>diesel</td>\n",
       "      <td>audi</td>\n",
       "      <td>nein</td>\n",
       "      <td>2016-03-08 00:00:00</td>\n",
       "      <td>0</td>\n",
       "      <td>35683</td>\n",
       "      <td>2016-04-05 16:45:07</td>\n",
       "    </tr>\n",
       "    <tr>\n",
       "      <th>49999</th>\n",
       "      <td>2016-03-14 00:42:12</td>\n",
       "      <td>Opel_Vectra_1.6_16V</td>\n",
       "      <td>privat</td>\n",
       "      <td>Angebot</td>\n",
       "      <td>$1,250</td>\n",
       "      <td>control</td>\n",
       "      <td>limousine</td>\n",
       "      <td>1996</td>\n",
       "      <td>manuell</td>\n",
       "      <td>101</td>\n",
       "      <td>vectra</td>\n",
       "      <td>150,000km</td>\n",
       "      <td>1</td>\n",
       "      <td>benzin</td>\n",
       "      <td>opel</td>\n",
       "      <td>nein</td>\n",
       "      <td>2016-03-13 00:00:00</td>\n",
       "      <td>0</td>\n",
       "      <td>45897</td>\n",
       "      <td>2016-04-06 21:18:48</td>\n",
       "    </tr>\n",
       "  </tbody>\n",
       "</table>\n",
       "<p>50000 rows × 20 columns</p>\n",
       "</div>"
      ],
      "text/plain": [
       "               dateCrawled                                               name  \\\n",
       "0      2016-03-26 17:47:46                   Peugeot_807_160_NAVTECH_ON_BOARD   \n",
       "1      2016-04-04 13:38:56         BMW_740i_4_4_Liter_HAMANN_UMBAU_Mega_Optik   \n",
       "2      2016-03-26 18:57:24                         Volkswagen_Golf_1.6_United   \n",
       "3      2016-03-12 16:58:10  Smart_smart_fortwo_coupe_softouch/F1/Klima/Pan...   \n",
       "4      2016-04-01 14:38:50  Ford_Focus_1_6_Benzin_TÜV_neu_ist_sehr_gepfleg...   \n",
       "...                    ...                                                ...   \n",
       "49995  2016-03-27 14:38:19   Audi_Q5_3.0_TDI_qu._S_tr.__Navi__Panorama__Xenon   \n",
       "49996  2016-03-28 10:50:25  Opel_Astra_F_Cabrio_Bertone_Edition___TÜV_neu+...   \n",
       "49997  2016-04-02 14:44:48                     Fiat_500_C_1.2_Dualogic_Lounge   \n",
       "49998  2016-03-08 19:25:42                 Audi_A3_2.0_TDI_Sportback_Ambition   \n",
       "49999  2016-03-14 00:42:12                                Opel_Vectra_1.6_16V   \n",
       "\n",
       "       seller offerType    price   abtest vehicleType  yearOfRegistration  \\\n",
       "0      privat   Angebot   $5,000  control         bus                2004   \n",
       "1      privat   Angebot   $8,500  control   limousine                1997   \n",
       "2      privat   Angebot   $8,990     test   limousine                2009   \n",
       "3      privat   Angebot   $4,350  control  kleinwagen                2007   \n",
       "4      privat   Angebot   $1,350     test       kombi                2003   \n",
       "...       ...       ...      ...      ...         ...                 ...   \n",
       "49995  privat   Angebot  $24,900  control   limousine                2011   \n",
       "49996  privat   Angebot   $1,980  control      cabrio                1996   \n",
       "49997  privat   Angebot  $13,200     test      cabrio                2014   \n",
       "49998  privat   Angebot  $22,900  control       kombi                2013   \n",
       "49999  privat   Angebot   $1,250  control   limousine                1996   \n",
       "\n",
       "         gearbox  powerPS   model   odometer  monthOfRegistration fuelType  \\\n",
       "0        manuell      158  andere  150,000km                    3      lpg   \n",
       "1      automatik      286     7er  150,000km                    6   benzin   \n",
       "2        manuell      102    golf   70,000km                    7   benzin   \n",
       "3      automatik       71  fortwo   70,000km                    6   benzin   \n",
       "4        manuell        0   focus  150,000km                    7   benzin   \n",
       "...          ...      ...     ...        ...                  ...      ...   \n",
       "49995  automatik      239      q5  100,000km                    1   diesel   \n",
       "49996    manuell       75   astra  150,000km                    5   benzin   \n",
       "49997  automatik       69     500    5,000km                   11   benzin   \n",
       "49998    manuell      150      a3   40,000km                   11   diesel   \n",
       "49999    manuell      101  vectra  150,000km                    1   benzin   \n",
       "\n",
       "            brand notRepairedDamage          dateCreated  nrOfPictures  \\\n",
       "0         peugeot              nein  2016-03-26 00:00:00             0   \n",
       "1             bmw              nein  2016-04-04 00:00:00             0   \n",
       "2      volkswagen              nein  2016-03-26 00:00:00             0   \n",
       "3           smart              nein  2016-03-12 00:00:00             0   \n",
       "4            ford              nein  2016-04-01 00:00:00             0   \n",
       "...           ...               ...                  ...           ...   \n",
       "49995        audi              nein  2016-03-27 00:00:00             0   \n",
       "49996        opel              nein  2016-03-28 00:00:00             0   \n",
       "49997        fiat              nein  2016-04-02 00:00:00             0   \n",
       "49998        audi              nein  2016-03-08 00:00:00             0   \n",
       "49999        opel              nein  2016-03-13 00:00:00             0   \n",
       "\n",
       "       postalCode             lastSeen  \n",
       "0           79588  2016-04-06 06:45:54  \n",
       "1           71034  2016-04-06 14:45:08  \n",
       "2           35394  2016-04-06 20:15:37  \n",
       "3           33729  2016-03-15 03:16:28  \n",
       "4           39218  2016-04-01 14:38:50  \n",
       "...           ...                  ...  \n",
       "49995       82131  2016-04-01 13:47:40  \n",
       "49996       44807  2016-04-02 14:18:02  \n",
       "49997       73430  2016-04-04 11:47:27  \n",
       "49998       35683  2016-04-05 16:45:07  \n",
       "49999       45897  2016-04-06 21:18:48  \n",
       "\n",
       "[50000 rows x 20 columns]"
      ]
     },
     "execution_count": 2,
     "metadata": {},
     "output_type": "execute_result"
    }
   ],
   "source": [
    "autos"
   ]
  },
  {
   "cell_type": "markdown",
   "metadata": {},
   "source": [
    "To get a better idea of the data's properties (i.e. shape, object types), we'll also subject the pandas object `autos` to the `DataFrame.info()` method, and `DataFrame.describe()`."
   ]
  },
  {
   "cell_type": "code",
   "execution_count": 3,
   "metadata": {},
   "outputs": [
    {
     "name": "stdout",
     "output_type": "stream",
     "text": [
      "<class 'pandas.core.frame.DataFrame'>\n",
      "RangeIndex: 50000 entries, 0 to 49999\n",
      "Data columns (total 20 columns):\n",
      " #   Column               Non-Null Count  Dtype \n",
      "---  ------               --------------  ----- \n",
      " 0   dateCrawled          50000 non-null  object\n",
      " 1   name                 50000 non-null  object\n",
      " 2   seller               50000 non-null  object\n",
      " 3   offerType            50000 non-null  object\n",
      " 4   price                50000 non-null  object\n",
      " 5   abtest               50000 non-null  object\n",
      " 6   vehicleType          44905 non-null  object\n",
      " 7   yearOfRegistration   50000 non-null  int64 \n",
      " 8   gearbox              47320 non-null  object\n",
      " 9   powerPS              50000 non-null  int64 \n",
      " 10  model                47242 non-null  object\n",
      " 11  odometer             50000 non-null  object\n",
      " 12  monthOfRegistration  50000 non-null  int64 \n",
      " 13  fuelType             45518 non-null  object\n",
      " 14  brand                50000 non-null  object\n",
      " 15  notRepairedDamage    40171 non-null  object\n",
      " 16  dateCreated          50000 non-null  object\n",
      " 17  nrOfPictures         50000 non-null  int64 \n",
      " 18  postalCode           50000 non-null  int64 \n",
      " 19  lastSeen             50000 non-null  object\n",
      "dtypes: int64(5), object(15)\n",
      "memory usage: 7.6+ MB\n"
     ]
    }
   ],
   "source": [
    "autos.info()"
   ]
  },
  {
   "cell_type": "code",
   "execution_count": 4,
   "metadata": {},
   "outputs": [
    {
     "data": {
      "text/html": [
       "<div>\n",
       "<style scoped>\n",
       "    .dataframe tbody tr th:only-of-type {\n",
       "        vertical-align: middle;\n",
       "    }\n",
       "\n",
       "    .dataframe tbody tr th {\n",
       "        vertical-align: top;\n",
       "    }\n",
       "\n",
       "    .dataframe thead th {\n",
       "        text-align: right;\n",
       "    }\n",
       "</style>\n",
       "<table border=\"1\" class=\"dataframe\">\n",
       "  <thead>\n",
       "    <tr style=\"text-align: right;\">\n",
       "      <th></th>\n",
       "      <th>yearOfRegistration</th>\n",
       "      <th>powerPS</th>\n",
       "      <th>monthOfRegistration</th>\n",
       "      <th>nrOfPictures</th>\n",
       "      <th>postalCode</th>\n",
       "    </tr>\n",
       "  </thead>\n",
       "  <tbody>\n",
       "    <tr>\n",
       "      <th>count</th>\n",
       "      <td>50000.000000</td>\n",
       "      <td>50000.000000</td>\n",
       "      <td>50000.000000</td>\n",
       "      <td>50000.0</td>\n",
       "      <td>50000.000000</td>\n",
       "    </tr>\n",
       "    <tr>\n",
       "      <th>mean</th>\n",
       "      <td>2005.073280</td>\n",
       "      <td>116.355920</td>\n",
       "      <td>5.723360</td>\n",
       "      <td>0.0</td>\n",
       "      <td>50813.627300</td>\n",
       "    </tr>\n",
       "    <tr>\n",
       "      <th>std</th>\n",
       "      <td>105.712813</td>\n",
       "      <td>209.216627</td>\n",
       "      <td>3.711984</td>\n",
       "      <td>0.0</td>\n",
       "      <td>25779.747957</td>\n",
       "    </tr>\n",
       "    <tr>\n",
       "      <th>min</th>\n",
       "      <td>1000.000000</td>\n",
       "      <td>0.000000</td>\n",
       "      <td>0.000000</td>\n",
       "      <td>0.0</td>\n",
       "      <td>1067.000000</td>\n",
       "    </tr>\n",
       "    <tr>\n",
       "      <th>25%</th>\n",
       "      <td>1999.000000</td>\n",
       "      <td>70.000000</td>\n",
       "      <td>3.000000</td>\n",
       "      <td>0.0</td>\n",
       "      <td>30451.000000</td>\n",
       "    </tr>\n",
       "    <tr>\n",
       "      <th>50%</th>\n",
       "      <td>2003.000000</td>\n",
       "      <td>105.000000</td>\n",
       "      <td>6.000000</td>\n",
       "      <td>0.0</td>\n",
       "      <td>49577.000000</td>\n",
       "    </tr>\n",
       "    <tr>\n",
       "      <th>75%</th>\n",
       "      <td>2008.000000</td>\n",
       "      <td>150.000000</td>\n",
       "      <td>9.000000</td>\n",
       "      <td>0.0</td>\n",
       "      <td>71540.000000</td>\n",
       "    </tr>\n",
       "    <tr>\n",
       "      <th>max</th>\n",
       "      <td>9999.000000</td>\n",
       "      <td>17700.000000</td>\n",
       "      <td>12.000000</td>\n",
       "      <td>0.0</td>\n",
       "      <td>99998.000000</td>\n",
       "    </tr>\n",
       "  </tbody>\n",
       "</table>\n",
       "</div>"
      ],
      "text/plain": [
       "       yearOfRegistration       powerPS  monthOfRegistration  nrOfPictures  \\\n",
       "count        50000.000000  50000.000000         50000.000000       50000.0   \n",
       "mean          2005.073280    116.355920             5.723360           0.0   \n",
       "std            105.712813    209.216627             3.711984           0.0   \n",
       "min           1000.000000      0.000000             0.000000           0.0   \n",
       "25%           1999.000000     70.000000             3.000000           0.0   \n",
       "50%           2003.000000    105.000000             6.000000           0.0   \n",
       "75%           2008.000000    150.000000             9.000000           0.0   \n",
       "max           9999.000000  17700.000000            12.000000           0.0   \n",
       "\n",
       "         postalCode  \n",
       "count  50000.000000  \n",
       "mean   50813.627300  \n",
       "std    25779.747957  \n",
       "min     1067.000000  \n",
       "25%    30451.000000  \n",
       "50%    49577.000000  \n",
       "75%    71540.000000  \n",
       "max    99998.000000  "
      ]
     },
     "execution_count": 4,
     "metadata": {},
     "output_type": "execute_result"
    }
   ],
   "source": [
    "autos.describe()"
   ]
  },
  {
   "cell_type": "markdown",
   "metadata": {},
   "source": [
    "Based on the above, we can come to the following conclusions:\n",
    "- The DataFrame has **20 columns**.\n",
    "- The column `name` uses **snake_case** for its values, while the column labels themselves use **CamelCase** (which is harder to read). Taken together, this reads as inconsistent.\n",
    "- The following columns are likely **missing entries**: `vehicleType`, `gearbox`, `model`, `fuelType`, `notRepairedDamage`. None have more than 20% (20% of 5000 equals 5000*0.2 = 1000) `Null` values, though.\n",
    "- The `dateCrawled`, `dateCreated` and `lastSeen` columns contain strings; we may want to convert these to `DateTime` or `pandas Timestamp` objects, so we can use pandas' built-in tools to work with times and dates.\n",
    "- Meanwhile, the `yearOfRegistration` and `monthOfRegistration` contain `integers`. Though at first instinct we might want to try converting these to `DateTime` or `pandas TimeStamp` objects, both require full dates (day, month, year) to work properly. As such, these are best left as integers.\n",
    "- The `price` column contains **string values**, instead of floats; the `odometer`column likewise contains string values, instead of integers.\n",
    "- The currency used is also **dollars**, instead of euros (which is one would expect from products sold in Germany). However, considering that we don't know whether this is an already-converted value (from euros to dollars), or if the dollar sign is an automatic addition to all values in that column without further altering it, we won't convert the values.\n",
    "- Many of the string values are in **German** – which might not be terribly useful to those who don't speak a word of German, necessitating translation into English."
   ]
  },
  {
   "cell_type": "markdown",
   "metadata": {},
   "source": [
    "## Data cleaning\n",
    "### Converting camelCase to snake_case in column labels\n",
    "Unfortunately, it's not a simple matter of replacing white spaces with underscores. Let's first see what columns exactly require new labels:"
   ]
  },
  {
   "cell_type": "code",
   "execution_count": 5,
   "metadata": {},
   "outputs": [
    {
     "data": {
      "text/plain": [
       "Index(['dateCrawled', 'name', 'seller', 'offerType', 'price', 'abtest',\n",
       "       'vehicleType', 'yearOfRegistration', 'gearbox', 'powerPS', 'model',\n",
       "       'odometer', 'monthOfRegistration', 'fuelType', 'brand',\n",
       "       'notRepairedDamage', 'dateCreated', 'nrOfPictures', 'postalCode',\n",
       "       'lastSeen'],\n",
       "      dtype='object')"
      ]
     },
     "execution_count": 5,
     "metadata": {},
     "output_type": "execute_result"
    }
   ],
   "source": [
    "# Viewing the names of the columns\n",
    "autos.columns"
   ]
  },
  {
   "cell_type": "markdown",
   "metadata": {},
   "source": [
    "Though it's not a major issue, for readability's and brevity's sake, we'll want to change the following column names to snake_case:\n",
    "- `dateCrawled`to `date_crawled`\n",
    "- `offerType`to `offer_type`\n",
    "- `abtest`to `ab_test`\n",
    "- `vehicleType` to `vehicle_type`\n",
    "- `yearOfRegistration`to `registration_year`\n",
    "- `powerPS` to `horsepower`\n",
    "- `monthOfRegistration`to `registration_month`\n",
    "- `fuelType` to `fuel_type`\n",
    "- `notRepairedDamage` to `unrepaired_damage`\n",
    "- `dateCreated` to `ad_created`\n",
    "- `nrOfPictures`to `number_of_pictures`\n",
    "- `postalCode` to `postal_code`\n",
    "- `lastSeen` to `ad_last_seen`\n",
    "\n",
    "To do this, we'll simply paste the list of existing column names and modify the names as stated, assigning that list to the variable `new_autos_columns`. Then we'll assign the modified list of column names back to the `DataFrame.columns` attribute."
   ]
  },
  {
   "cell_type": "code",
   "execution_count": 6,
   "metadata": {},
   "outputs": [
    {
     "data": {
      "text/html": [
       "<div>\n",
       "<style scoped>\n",
       "    .dataframe tbody tr th:only-of-type {\n",
       "        vertical-align: middle;\n",
       "    }\n",
       "\n",
       "    .dataframe tbody tr th {\n",
       "        vertical-align: top;\n",
       "    }\n",
       "\n",
       "    .dataframe thead th {\n",
       "        text-align: right;\n",
       "    }\n",
       "</style>\n",
       "<table border=\"1\" class=\"dataframe\">\n",
       "  <thead>\n",
       "    <tr style=\"text-align: right;\">\n",
       "      <th></th>\n",
       "      <th>date_crawled</th>\n",
       "      <th>name</th>\n",
       "      <th>seller</th>\n",
       "      <th>offer_type</th>\n",
       "      <th>price</th>\n",
       "      <th>ab_test</th>\n",
       "      <th>vehicle_type</th>\n",
       "      <th>registration_year</th>\n",
       "      <th>gearbox</th>\n",
       "      <th>horsepower</th>\n",
       "      <th>model</th>\n",
       "      <th>odometer</th>\n",
       "      <th>registration_month</th>\n",
       "      <th>fuel_type</th>\n",
       "      <th>brand</th>\n",
       "      <th>unrepaired_damage</th>\n",
       "      <th>ad_created</th>\n",
       "      <th>number_of_pictures</th>\n",
       "      <th>postal_code</th>\n",
       "      <th>ad_last_seen</th>\n",
       "    </tr>\n",
       "  </thead>\n",
       "  <tbody>\n",
       "    <tr>\n",
       "      <th>0</th>\n",
       "      <td>2016-03-26 17:47:46</td>\n",
       "      <td>Peugeot_807_160_NAVTECH_ON_BOARD</td>\n",
       "      <td>privat</td>\n",
       "      <td>Angebot</td>\n",
       "      <td>$5,000</td>\n",
       "      <td>control</td>\n",
       "      <td>bus</td>\n",
       "      <td>2004</td>\n",
       "      <td>manuell</td>\n",
       "      <td>158</td>\n",
       "      <td>andere</td>\n",
       "      <td>150,000km</td>\n",
       "      <td>3</td>\n",
       "      <td>lpg</td>\n",
       "      <td>peugeot</td>\n",
       "      <td>nein</td>\n",
       "      <td>2016-03-26 00:00:00</td>\n",
       "      <td>0</td>\n",
       "      <td>79588</td>\n",
       "      <td>2016-04-06 06:45:54</td>\n",
       "    </tr>\n",
       "    <tr>\n",
       "      <th>1</th>\n",
       "      <td>2016-04-04 13:38:56</td>\n",
       "      <td>BMW_740i_4_4_Liter_HAMANN_UMBAU_Mega_Optik</td>\n",
       "      <td>privat</td>\n",
       "      <td>Angebot</td>\n",
       "      <td>$8,500</td>\n",
       "      <td>control</td>\n",
       "      <td>limousine</td>\n",
       "      <td>1997</td>\n",
       "      <td>automatik</td>\n",
       "      <td>286</td>\n",
       "      <td>7er</td>\n",
       "      <td>150,000km</td>\n",
       "      <td>6</td>\n",
       "      <td>benzin</td>\n",
       "      <td>bmw</td>\n",
       "      <td>nein</td>\n",
       "      <td>2016-04-04 00:00:00</td>\n",
       "      <td>0</td>\n",
       "      <td>71034</td>\n",
       "      <td>2016-04-06 14:45:08</td>\n",
       "    </tr>\n",
       "    <tr>\n",
       "      <th>2</th>\n",
       "      <td>2016-03-26 18:57:24</td>\n",
       "      <td>Volkswagen_Golf_1.6_United</td>\n",
       "      <td>privat</td>\n",
       "      <td>Angebot</td>\n",
       "      <td>$8,990</td>\n",
       "      <td>test</td>\n",
       "      <td>limousine</td>\n",
       "      <td>2009</td>\n",
       "      <td>manuell</td>\n",
       "      <td>102</td>\n",
       "      <td>golf</td>\n",
       "      <td>70,000km</td>\n",
       "      <td>7</td>\n",
       "      <td>benzin</td>\n",
       "      <td>volkswagen</td>\n",
       "      <td>nein</td>\n",
       "      <td>2016-03-26 00:00:00</td>\n",
       "      <td>0</td>\n",
       "      <td>35394</td>\n",
       "      <td>2016-04-06 20:15:37</td>\n",
       "    </tr>\n",
       "    <tr>\n",
       "      <th>3</th>\n",
       "      <td>2016-03-12 16:58:10</td>\n",
       "      <td>Smart_smart_fortwo_coupe_softouch/F1/Klima/Pan...</td>\n",
       "      <td>privat</td>\n",
       "      <td>Angebot</td>\n",
       "      <td>$4,350</td>\n",
       "      <td>control</td>\n",
       "      <td>kleinwagen</td>\n",
       "      <td>2007</td>\n",
       "      <td>automatik</td>\n",
       "      <td>71</td>\n",
       "      <td>fortwo</td>\n",
       "      <td>70,000km</td>\n",
       "      <td>6</td>\n",
       "      <td>benzin</td>\n",
       "      <td>smart</td>\n",
       "      <td>nein</td>\n",
       "      <td>2016-03-12 00:00:00</td>\n",
       "      <td>0</td>\n",
       "      <td>33729</td>\n",
       "      <td>2016-03-15 03:16:28</td>\n",
       "    </tr>\n",
       "    <tr>\n",
       "      <th>4</th>\n",
       "      <td>2016-04-01 14:38:50</td>\n",
       "      <td>Ford_Focus_1_6_Benzin_TÜV_neu_ist_sehr_gepfleg...</td>\n",
       "      <td>privat</td>\n",
       "      <td>Angebot</td>\n",
       "      <td>$1,350</td>\n",
       "      <td>test</td>\n",
       "      <td>kombi</td>\n",
       "      <td>2003</td>\n",
       "      <td>manuell</td>\n",
       "      <td>0</td>\n",
       "      <td>focus</td>\n",
       "      <td>150,000km</td>\n",
       "      <td>7</td>\n",
       "      <td>benzin</td>\n",
       "      <td>ford</td>\n",
       "      <td>nein</td>\n",
       "      <td>2016-04-01 00:00:00</td>\n",
       "      <td>0</td>\n",
       "      <td>39218</td>\n",
       "      <td>2016-04-01 14:38:50</td>\n",
       "    </tr>\n",
       "  </tbody>\n",
       "</table>\n",
       "</div>"
      ],
      "text/plain": [
       "          date_crawled                                               name  \\\n",
       "0  2016-03-26 17:47:46                   Peugeot_807_160_NAVTECH_ON_BOARD   \n",
       "1  2016-04-04 13:38:56         BMW_740i_4_4_Liter_HAMANN_UMBAU_Mega_Optik   \n",
       "2  2016-03-26 18:57:24                         Volkswagen_Golf_1.6_United   \n",
       "3  2016-03-12 16:58:10  Smart_smart_fortwo_coupe_softouch/F1/Klima/Pan...   \n",
       "4  2016-04-01 14:38:50  Ford_Focus_1_6_Benzin_TÜV_neu_ist_sehr_gepfleg...   \n",
       "\n",
       "   seller offer_type   price  ab_test vehicle_type  registration_year  \\\n",
       "0  privat    Angebot  $5,000  control          bus               2004   \n",
       "1  privat    Angebot  $8,500  control    limousine               1997   \n",
       "2  privat    Angebot  $8,990     test    limousine               2009   \n",
       "3  privat    Angebot  $4,350  control   kleinwagen               2007   \n",
       "4  privat    Angebot  $1,350     test        kombi               2003   \n",
       "\n",
       "     gearbox  horsepower   model   odometer  registration_month fuel_type  \\\n",
       "0    manuell         158  andere  150,000km                   3       lpg   \n",
       "1  automatik         286     7er  150,000km                   6    benzin   \n",
       "2    manuell         102    golf   70,000km                   7    benzin   \n",
       "3  automatik          71  fortwo   70,000km                   6    benzin   \n",
       "4    manuell           0   focus  150,000km                   7    benzin   \n",
       "\n",
       "        brand unrepaired_damage           ad_created  number_of_pictures  \\\n",
       "0     peugeot              nein  2016-03-26 00:00:00                   0   \n",
       "1         bmw              nein  2016-04-04 00:00:00                   0   \n",
       "2  volkswagen              nein  2016-03-26 00:00:00                   0   \n",
       "3       smart              nein  2016-03-12 00:00:00                   0   \n",
       "4        ford              nein  2016-04-01 00:00:00                   0   \n",
       "\n",
       "   postal_code         ad_last_seen  \n",
       "0        79588  2016-04-06 06:45:54  \n",
       "1        71034  2016-04-06 14:45:08  \n",
       "2        35394  2016-04-06 20:15:37  \n",
       "3        33729  2016-03-15 03:16:28  \n",
       "4        39218  2016-04-01 14:38:50  "
      ]
     },
     "execution_count": 6,
     "metadata": {},
     "output_type": "execute_result"
    }
   ],
   "source": [
    "# Renaming the columns to make them more descriptive\n",
    "new_autos_columns = [\"date_crawled\", \"name\", \"seller\", \"offer_type\", \"price\", \"ab_test\",\n",
    "       \"vehicle_type\", \"registration_year\", \"gearbox\", \"horsepower\", \"model\",\n",
    "       \"odometer\", \"registration_month\", \"fuel_type\", \"brand\",\n",
    "       \"unrepaired_damage\", \"ad_created\", \"number_of_pictures\", \"postal_code\",\n",
    "       \"ad_last_seen\"]\n",
    "\n",
    "# Assigning the altered column names back to the columns attribute\n",
    "autos.columns = new_autos_columns\n",
    "\n",
    "# Verifying the current state of the autos DataFrame\n",
    "autos.head()"
   ]
  },
  {
   "cell_type": "markdown",
   "metadata": {},
   "source": [
    "Now all the column names are similarly formatted, while clearly identifying what data they contain and following the conventional approach while working with Python. This will make them easy to work with during the upcoming analyses."
   ]
  },
  {
   "cell_type": "markdown",
   "metadata": {},
   "source": [
    "### Identifying + dropping columns with largely identical values\n",
    "To identify whether there are any columns that feature largely of exclusively identical values, we'll primarily use two methods: `DataFrame.describe()` and `Series.value_counts()`."
   ]
  },
  {
   "cell_type": "code",
   "execution_count": 7,
   "metadata": {},
   "outputs": [
    {
     "data": {
      "text/html": [
       "<div>\n",
       "<style scoped>\n",
       "    .dataframe tbody tr th:only-of-type {\n",
       "        vertical-align: middle;\n",
       "    }\n",
       "\n",
       "    .dataframe tbody tr th {\n",
       "        vertical-align: top;\n",
       "    }\n",
       "\n",
       "    .dataframe thead th {\n",
       "        text-align: right;\n",
       "    }\n",
       "</style>\n",
       "<table border=\"1\" class=\"dataframe\">\n",
       "  <thead>\n",
       "    <tr style=\"text-align: right;\">\n",
       "      <th></th>\n",
       "      <th>date_crawled</th>\n",
       "      <th>name</th>\n",
       "      <th>seller</th>\n",
       "      <th>offer_type</th>\n",
       "      <th>price</th>\n",
       "      <th>ab_test</th>\n",
       "      <th>vehicle_type</th>\n",
       "      <th>registration_year</th>\n",
       "      <th>gearbox</th>\n",
       "      <th>horsepower</th>\n",
       "      <th>model</th>\n",
       "      <th>odometer</th>\n",
       "      <th>registration_month</th>\n",
       "      <th>fuel_type</th>\n",
       "      <th>brand</th>\n",
       "      <th>unrepaired_damage</th>\n",
       "      <th>ad_created</th>\n",
       "      <th>number_of_pictures</th>\n",
       "      <th>postal_code</th>\n",
       "      <th>ad_last_seen</th>\n",
       "    </tr>\n",
       "  </thead>\n",
       "  <tbody>\n",
       "    <tr>\n",
       "      <th>count</th>\n",
       "      <td>50000</td>\n",
       "      <td>50000</td>\n",
       "      <td>50000</td>\n",
       "      <td>50000</td>\n",
       "      <td>50000</td>\n",
       "      <td>50000</td>\n",
       "      <td>44905</td>\n",
       "      <td>50000.000000</td>\n",
       "      <td>47320</td>\n",
       "      <td>50000.000000</td>\n",
       "      <td>47242</td>\n",
       "      <td>50000</td>\n",
       "      <td>50000.000000</td>\n",
       "      <td>45518</td>\n",
       "      <td>50000</td>\n",
       "      <td>40171</td>\n",
       "      <td>50000</td>\n",
       "      <td>50000.0</td>\n",
       "      <td>50000.000000</td>\n",
       "      <td>50000</td>\n",
       "    </tr>\n",
       "    <tr>\n",
       "      <th>unique</th>\n",
       "      <td>48213</td>\n",
       "      <td>38754</td>\n",
       "      <td>2</td>\n",
       "      <td>2</td>\n",
       "      <td>2357</td>\n",
       "      <td>2</td>\n",
       "      <td>8</td>\n",
       "      <td>NaN</td>\n",
       "      <td>2</td>\n",
       "      <td>NaN</td>\n",
       "      <td>245</td>\n",
       "      <td>13</td>\n",
       "      <td>NaN</td>\n",
       "      <td>7</td>\n",
       "      <td>40</td>\n",
       "      <td>2</td>\n",
       "      <td>76</td>\n",
       "      <td>NaN</td>\n",
       "      <td>NaN</td>\n",
       "      <td>39481</td>\n",
       "    </tr>\n",
       "    <tr>\n",
       "      <th>top</th>\n",
       "      <td>2016-04-02 11:37:04</td>\n",
       "      <td>Ford_Fiesta</td>\n",
       "      <td>privat</td>\n",
       "      <td>Angebot</td>\n",
       "      <td>$0</td>\n",
       "      <td>test</td>\n",
       "      <td>limousine</td>\n",
       "      <td>NaN</td>\n",
       "      <td>manuell</td>\n",
       "      <td>NaN</td>\n",
       "      <td>golf</td>\n",
       "      <td>150,000km</td>\n",
       "      <td>NaN</td>\n",
       "      <td>benzin</td>\n",
       "      <td>volkswagen</td>\n",
       "      <td>nein</td>\n",
       "      <td>2016-04-03 00:00:00</td>\n",
       "      <td>NaN</td>\n",
       "      <td>NaN</td>\n",
       "      <td>2016-04-07 06:17:27</td>\n",
       "    </tr>\n",
       "    <tr>\n",
       "      <th>freq</th>\n",
       "      <td>3</td>\n",
       "      <td>78</td>\n",
       "      <td>49999</td>\n",
       "      <td>49999</td>\n",
       "      <td>1421</td>\n",
       "      <td>25756</td>\n",
       "      <td>12859</td>\n",
       "      <td>NaN</td>\n",
       "      <td>36993</td>\n",
       "      <td>NaN</td>\n",
       "      <td>4024</td>\n",
       "      <td>32424</td>\n",
       "      <td>NaN</td>\n",
       "      <td>30107</td>\n",
       "      <td>10687</td>\n",
       "      <td>35232</td>\n",
       "      <td>1946</td>\n",
       "      <td>NaN</td>\n",
       "      <td>NaN</td>\n",
       "      <td>8</td>\n",
       "    </tr>\n",
       "    <tr>\n",
       "      <th>mean</th>\n",
       "      <td>NaN</td>\n",
       "      <td>NaN</td>\n",
       "      <td>NaN</td>\n",
       "      <td>NaN</td>\n",
       "      <td>NaN</td>\n",
       "      <td>NaN</td>\n",
       "      <td>NaN</td>\n",
       "      <td>2005.073280</td>\n",
       "      <td>NaN</td>\n",
       "      <td>116.355920</td>\n",
       "      <td>NaN</td>\n",
       "      <td>NaN</td>\n",
       "      <td>5.723360</td>\n",
       "      <td>NaN</td>\n",
       "      <td>NaN</td>\n",
       "      <td>NaN</td>\n",
       "      <td>NaN</td>\n",
       "      <td>0.0</td>\n",
       "      <td>50813.627300</td>\n",
       "      <td>NaN</td>\n",
       "    </tr>\n",
       "    <tr>\n",
       "      <th>std</th>\n",
       "      <td>NaN</td>\n",
       "      <td>NaN</td>\n",
       "      <td>NaN</td>\n",
       "      <td>NaN</td>\n",
       "      <td>NaN</td>\n",
       "      <td>NaN</td>\n",
       "      <td>NaN</td>\n",
       "      <td>105.712813</td>\n",
       "      <td>NaN</td>\n",
       "      <td>209.216627</td>\n",
       "      <td>NaN</td>\n",
       "      <td>NaN</td>\n",
       "      <td>3.711984</td>\n",
       "      <td>NaN</td>\n",
       "      <td>NaN</td>\n",
       "      <td>NaN</td>\n",
       "      <td>NaN</td>\n",
       "      <td>0.0</td>\n",
       "      <td>25779.747957</td>\n",
       "      <td>NaN</td>\n",
       "    </tr>\n",
       "    <tr>\n",
       "      <th>min</th>\n",
       "      <td>NaN</td>\n",
       "      <td>NaN</td>\n",
       "      <td>NaN</td>\n",
       "      <td>NaN</td>\n",
       "      <td>NaN</td>\n",
       "      <td>NaN</td>\n",
       "      <td>NaN</td>\n",
       "      <td>1000.000000</td>\n",
       "      <td>NaN</td>\n",
       "      <td>0.000000</td>\n",
       "      <td>NaN</td>\n",
       "      <td>NaN</td>\n",
       "      <td>0.000000</td>\n",
       "      <td>NaN</td>\n",
       "      <td>NaN</td>\n",
       "      <td>NaN</td>\n",
       "      <td>NaN</td>\n",
       "      <td>0.0</td>\n",
       "      <td>1067.000000</td>\n",
       "      <td>NaN</td>\n",
       "    </tr>\n",
       "    <tr>\n",
       "      <th>25%</th>\n",
       "      <td>NaN</td>\n",
       "      <td>NaN</td>\n",
       "      <td>NaN</td>\n",
       "      <td>NaN</td>\n",
       "      <td>NaN</td>\n",
       "      <td>NaN</td>\n",
       "      <td>NaN</td>\n",
       "      <td>1999.000000</td>\n",
       "      <td>NaN</td>\n",
       "      <td>70.000000</td>\n",
       "      <td>NaN</td>\n",
       "      <td>NaN</td>\n",
       "      <td>3.000000</td>\n",
       "      <td>NaN</td>\n",
       "      <td>NaN</td>\n",
       "      <td>NaN</td>\n",
       "      <td>NaN</td>\n",
       "      <td>0.0</td>\n",
       "      <td>30451.000000</td>\n",
       "      <td>NaN</td>\n",
       "    </tr>\n",
       "    <tr>\n",
       "      <th>50%</th>\n",
       "      <td>NaN</td>\n",
       "      <td>NaN</td>\n",
       "      <td>NaN</td>\n",
       "      <td>NaN</td>\n",
       "      <td>NaN</td>\n",
       "      <td>NaN</td>\n",
       "      <td>NaN</td>\n",
       "      <td>2003.000000</td>\n",
       "      <td>NaN</td>\n",
       "      <td>105.000000</td>\n",
       "      <td>NaN</td>\n",
       "      <td>NaN</td>\n",
       "      <td>6.000000</td>\n",
       "      <td>NaN</td>\n",
       "      <td>NaN</td>\n",
       "      <td>NaN</td>\n",
       "      <td>NaN</td>\n",
       "      <td>0.0</td>\n",
       "      <td>49577.000000</td>\n",
       "      <td>NaN</td>\n",
       "    </tr>\n",
       "    <tr>\n",
       "      <th>75%</th>\n",
       "      <td>NaN</td>\n",
       "      <td>NaN</td>\n",
       "      <td>NaN</td>\n",
       "      <td>NaN</td>\n",
       "      <td>NaN</td>\n",
       "      <td>NaN</td>\n",
       "      <td>NaN</td>\n",
       "      <td>2008.000000</td>\n",
       "      <td>NaN</td>\n",
       "      <td>150.000000</td>\n",
       "      <td>NaN</td>\n",
       "      <td>NaN</td>\n",
       "      <td>9.000000</td>\n",
       "      <td>NaN</td>\n",
       "      <td>NaN</td>\n",
       "      <td>NaN</td>\n",
       "      <td>NaN</td>\n",
       "      <td>0.0</td>\n",
       "      <td>71540.000000</td>\n",
       "      <td>NaN</td>\n",
       "    </tr>\n",
       "    <tr>\n",
       "      <th>max</th>\n",
       "      <td>NaN</td>\n",
       "      <td>NaN</td>\n",
       "      <td>NaN</td>\n",
       "      <td>NaN</td>\n",
       "      <td>NaN</td>\n",
       "      <td>NaN</td>\n",
       "      <td>NaN</td>\n",
       "      <td>9999.000000</td>\n",
       "      <td>NaN</td>\n",
       "      <td>17700.000000</td>\n",
       "      <td>NaN</td>\n",
       "      <td>NaN</td>\n",
       "      <td>12.000000</td>\n",
       "      <td>NaN</td>\n",
       "      <td>NaN</td>\n",
       "      <td>NaN</td>\n",
       "      <td>NaN</td>\n",
       "      <td>0.0</td>\n",
       "      <td>99998.000000</td>\n",
       "      <td>NaN</td>\n",
       "    </tr>\n",
       "  </tbody>\n",
       "</table>\n",
       "</div>"
      ],
      "text/plain": [
       "               date_crawled         name  seller offer_type  price ab_test  \\\n",
       "count                 50000        50000   50000      50000  50000   50000   \n",
       "unique                48213        38754       2          2   2357       2   \n",
       "top     2016-04-02 11:37:04  Ford_Fiesta  privat    Angebot     $0    test   \n",
       "freq                      3           78   49999      49999   1421   25756   \n",
       "mean                    NaN          NaN     NaN        NaN    NaN     NaN   \n",
       "std                     NaN          NaN     NaN        NaN    NaN     NaN   \n",
       "min                     NaN          NaN     NaN        NaN    NaN     NaN   \n",
       "25%                     NaN          NaN     NaN        NaN    NaN     NaN   \n",
       "50%                     NaN          NaN     NaN        NaN    NaN     NaN   \n",
       "75%                     NaN          NaN     NaN        NaN    NaN     NaN   \n",
       "max                     NaN          NaN     NaN        NaN    NaN     NaN   \n",
       "\n",
       "       vehicle_type  registration_year  gearbox    horsepower  model  \\\n",
       "count         44905       50000.000000    47320  50000.000000  47242   \n",
       "unique            8                NaN        2           NaN    245   \n",
       "top       limousine                NaN  manuell           NaN   golf   \n",
       "freq          12859                NaN    36993           NaN   4024   \n",
       "mean            NaN        2005.073280      NaN    116.355920    NaN   \n",
       "std             NaN         105.712813      NaN    209.216627    NaN   \n",
       "min             NaN        1000.000000      NaN      0.000000    NaN   \n",
       "25%             NaN        1999.000000      NaN     70.000000    NaN   \n",
       "50%             NaN        2003.000000      NaN    105.000000    NaN   \n",
       "75%             NaN        2008.000000      NaN    150.000000    NaN   \n",
       "max             NaN        9999.000000      NaN  17700.000000    NaN   \n",
       "\n",
       "         odometer  registration_month fuel_type       brand unrepaired_damage  \\\n",
       "count       50000        50000.000000     45518       50000             40171   \n",
       "unique         13                 NaN         7          40                 2   \n",
       "top     150,000km                 NaN    benzin  volkswagen              nein   \n",
       "freq        32424                 NaN     30107       10687             35232   \n",
       "mean          NaN            5.723360       NaN         NaN               NaN   \n",
       "std           NaN            3.711984       NaN         NaN               NaN   \n",
       "min           NaN            0.000000       NaN         NaN               NaN   \n",
       "25%           NaN            3.000000       NaN         NaN               NaN   \n",
       "50%           NaN            6.000000       NaN         NaN               NaN   \n",
       "75%           NaN            9.000000       NaN         NaN               NaN   \n",
       "max           NaN           12.000000       NaN         NaN               NaN   \n",
       "\n",
       "                 ad_created  number_of_pictures   postal_code  \\\n",
       "count                 50000             50000.0  50000.000000   \n",
       "unique                   76                 NaN           NaN   \n",
       "top     2016-04-03 00:00:00                 NaN           NaN   \n",
       "freq                   1946                 NaN           NaN   \n",
       "mean                    NaN                 0.0  50813.627300   \n",
       "std                     NaN                 0.0  25779.747957   \n",
       "min                     NaN                 0.0   1067.000000   \n",
       "25%                     NaN                 0.0  30451.000000   \n",
       "50%                     NaN                 0.0  49577.000000   \n",
       "75%                     NaN                 0.0  71540.000000   \n",
       "max                     NaN                 0.0  99998.000000   \n",
       "\n",
       "               ad_last_seen  \n",
       "count                 50000  \n",
       "unique                39481  \n",
       "top     2016-04-07 06:17:27  \n",
       "freq                      8  \n",
       "mean                    NaN  \n",
       "std                     NaN  \n",
       "min                     NaN  \n",
       "25%                     NaN  \n",
       "50%                     NaN  \n",
       "75%                     NaN  \n",
       "max                     NaN  "
      ]
     },
     "execution_count": 7,
     "metadata": {},
     "output_type": "execute_result"
    }
   ],
   "source": [
    "# Getting descriptive statistics – and including non-numeric columns in our output\n",
    "autos.describe(include=\"all\")"
   ]
  },
  {
   "cell_type": "markdown",
   "metadata": {},
   "source": [
    "Looking at the above descriptives, we can conclude that the following columns are eligible to be dropped due to containing only one or two types of variables, rendering their contributions to future analyses minimal: `seller`, `offer_type`, `ab_test`, `gearbox`, and `unrepaired_damage`.\n",
    "\n",
    "Furthermore, the minimum and maximum values for the column `number_of_pictures` are both zero, implying that this column only contains zeros. Let's verify that the majority of these columns' values are, indeed, of one specific type, rather than equally divided:"
   ]
  },
  {
   "cell_type": "code",
   "execution_count": 8,
   "metadata": {},
   "outputs": [
    {
     "name": "stdout",
     "output_type": "stream",
     "text": [
      "seller\n",
      "privat        49999\n",
      "gewerblich        1\n",
      "Name: count, dtype: int64\n",
      "offer_type\n",
      "Angebot    49999\n",
      "Gesuch         1\n",
      "Name: count, dtype: int64\n",
      "ab_test\n",
      "test       25756\n",
      "control    24244\n",
      "Name: count, dtype: int64\n",
      "gearbox\n",
      "manuell      36993\n",
      "automatik    10327\n",
      "Name: count, dtype: int64\n",
      "unrepaired_damage\n",
      "nein    35232\n",
      "ja       4939\n",
      "Name: count, dtype: int64\n",
      "number_of_pictures\n",
      "0    50000\n",
      "Name: count, dtype: int64\n"
     ]
    }
   ],
   "source": [
    "# Defining what columns we want to parse in the loop below\n",
    "columns = [\"seller\", \"offer_type\", \"ab_test\", \"gearbox\", \"unrepaired_damage\", \"number_of_pictures\"]\n",
    "\n",
    "# Looping through the columns and printing the value counts for each\n",
    "for column in columns:\n",
    "    print(autos[column].value_counts())"
   ]
  },
  {
   "cell_type": "markdown",
   "metadata": {},
   "source": [
    "This confirms that the data in the columns `seller`, `offer_type` and `number_of_pictures` contain largely, if not exclusively, a single value. Given that these values are unlikely to provide us with helpful data during future analyses, we'll drop them from the DataFrame. We'll do this using the `DataFrame.drop()` method."
   ]
  },
  {
   "cell_type": "code",
   "execution_count": 9,
   "metadata": {},
   "outputs": [
    {
     "name": "stdout",
     "output_type": "stream",
     "text": [
      "<class 'pandas.core.frame.DataFrame'>\n",
      "RangeIndex: 50000 entries, 0 to 49999\n",
      "Data columns (total 17 columns):\n",
      " #   Column              Non-Null Count  Dtype \n",
      "---  ------              --------------  ----- \n",
      " 0   date_crawled        50000 non-null  object\n",
      " 1   name                50000 non-null  object\n",
      " 2   price               50000 non-null  object\n",
      " 3   ab_test             50000 non-null  object\n",
      " 4   vehicle_type        44905 non-null  object\n",
      " 5   registration_year   50000 non-null  int64 \n",
      " 6   gearbox             47320 non-null  object\n",
      " 7   horsepower          50000 non-null  int64 \n",
      " 8   model               47242 non-null  object\n",
      " 9   odometer            50000 non-null  object\n",
      " 10  registration_month  50000 non-null  int64 \n",
      " 11  fuel_type           45518 non-null  object\n",
      " 12  brand               50000 non-null  object\n",
      " 13  unrepaired_damage   40171 non-null  object\n",
      " 14  ad_created          50000 non-null  object\n",
      " 15  postal_code         50000 non-null  int64 \n",
      " 16  ad_last_seen        50000 non-null  object\n",
      "dtypes: int64(4), object(13)\n",
      "memory usage: 6.5+ MB\n"
     ]
    }
   ],
   "source": [
    "autos.drop(columns=[\"seller\", \"offer_type\", \"number_of_pictures\"], inplace=True)\n",
    "\n",
    "# Resetting the index to prevent row counting issues in the future\n",
    "autos.reset_index(drop=True, inplace=True)\n",
    "\n",
    "# Confirming that the columns were dropped\n",
    "autos.info()"
   ]
  },
  {
   "cell_type": "markdown",
   "metadata": {},
   "source": [
    "### Converting numeric data from strings to floats\n",
    "Based on the above table and our initial data exploration, we'll also want to clean up the `price` and `odometer` columns by:\n",
    "\n",
    "- Deleting non-numeric characters\n",
    "- Converting the columns' contents to numeric dtypes\n",
    "- Renaming the `odometer` label in specific to `odometer_km`.\n",
    "\n",
    "We'll remove the '$' characters and remove the commas before converting the values of the `price` column to a `float64` dtype. For the `odometer` column, we'll remove 'km' and any commas before likewise converting the values to floats."
   ]
  },
  {
   "cell_type": "code",
   "execution_count": 10,
   "metadata": {},
   "outputs": [],
   "source": [
    "# Removing dollar signs and commas from the price column\n",
    "clean_price = autos[\"price\"].str.strip(\"$\").str.replace(\",\", \"\")\n",
    "# Converting the price column\"s values to float64\n",
    "clean_price = clean_price.astype(float)\n",
    "# Assigning clean_price back to autos[\"price\"]\n",
    "autos[\"price\"] = clean_price"
   ]
  },
  {
   "cell_type": "code",
   "execution_count": 11,
   "metadata": {},
   "outputs": [],
   "source": [
    "# Removing \"km\" and commas from the odometer column\n",
    "clean_odometer = autos[\"odometer\"].str.replace(\"km\", \"\").str.replace(\",\", \"\")\n",
    "# Converting the odometer column\"s values to floats\n",
    "clean_odometer = clean_odometer.astype(float)\n",
    "# Assigning clean_odometer back to autos[\"odometer\"]\n",
    "autos[\"odometer\"] = clean_odometer\n",
    "# Renaming the odometer column\n",
    "autos.rename({\"odometer\": \"odometer_km\"}, axis=1, inplace=True)"
   ]
  },
  {
   "cell_type": "markdown",
   "metadata": {},
   "source": [
    "Let's take a look at the data in its most recent form to determine what steps we must take next:"
   ]
  },
  {
   "cell_type": "code",
   "execution_count": 12,
   "metadata": {},
   "outputs": [
    {
     "data": {
      "text/html": [
       "<div>\n",
       "<style scoped>\n",
       "    .dataframe tbody tr th:only-of-type {\n",
       "        vertical-align: middle;\n",
       "    }\n",
       "\n",
       "    .dataframe tbody tr th {\n",
       "        vertical-align: top;\n",
       "    }\n",
       "\n",
       "    .dataframe thead th {\n",
       "        text-align: right;\n",
       "    }\n",
       "</style>\n",
       "<table border=\"1\" class=\"dataframe\">\n",
       "  <thead>\n",
       "    <tr style=\"text-align: right;\">\n",
       "      <th></th>\n",
       "      <th>date_crawled</th>\n",
       "      <th>name</th>\n",
       "      <th>price</th>\n",
       "      <th>ab_test</th>\n",
       "      <th>vehicle_type</th>\n",
       "      <th>registration_year</th>\n",
       "      <th>gearbox</th>\n",
       "      <th>horsepower</th>\n",
       "      <th>model</th>\n",
       "      <th>odometer_km</th>\n",
       "      <th>registration_month</th>\n",
       "      <th>fuel_type</th>\n",
       "      <th>brand</th>\n",
       "      <th>unrepaired_damage</th>\n",
       "      <th>ad_created</th>\n",
       "      <th>postal_code</th>\n",
       "      <th>ad_last_seen</th>\n",
       "    </tr>\n",
       "  </thead>\n",
       "  <tbody>\n",
       "    <tr>\n",
       "      <th>count</th>\n",
       "      <td>50000</td>\n",
       "      <td>50000</td>\n",
       "      <td>5.000000e+04</td>\n",
       "      <td>50000</td>\n",
       "      <td>44905</td>\n",
       "      <td>50000.000000</td>\n",
       "      <td>47320</td>\n",
       "      <td>50000.000000</td>\n",
       "      <td>47242</td>\n",
       "      <td>50000.000000</td>\n",
       "      <td>50000.000000</td>\n",
       "      <td>45518</td>\n",
       "      <td>50000</td>\n",
       "      <td>40171</td>\n",
       "      <td>50000</td>\n",
       "      <td>50000.000000</td>\n",
       "      <td>50000</td>\n",
       "    </tr>\n",
       "    <tr>\n",
       "      <th>unique</th>\n",
       "      <td>48213</td>\n",
       "      <td>38754</td>\n",
       "      <td>NaN</td>\n",
       "      <td>2</td>\n",
       "      <td>8</td>\n",
       "      <td>NaN</td>\n",
       "      <td>2</td>\n",
       "      <td>NaN</td>\n",
       "      <td>245</td>\n",
       "      <td>NaN</td>\n",
       "      <td>NaN</td>\n",
       "      <td>7</td>\n",
       "      <td>40</td>\n",
       "      <td>2</td>\n",
       "      <td>76</td>\n",
       "      <td>NaN</td>\n",
       "      <td>39481</td>\n",
       "    </tr>\n",
       "    <tr>\n",
       "      <th>top</th>\n",
       "      <td>2016-04-02 11:37:04</td>\n",
       "      <td>Ford_Fiesta</td>\n",
       "      <td>NaN</td>\n",
       "      <td>test</td>\n",
       "      <td>limousine</td>\n",
       "      <td>NaN</td>\n",
       "      <td>manuell</td>\n",
       "      <td>NaN</td>\n",
       "      <td>golf</td>\n",
       "      <td>NaN</td>\n",
       "      <td>NaN</td>\n",
       "      <td>benzin</td>\n",
       "      <td>volkswagen</td>\n",
       "      <td>nein</td>\n",
       "      <td>2016-04-03 00:00:00</td>\n",
       "      <td>NaN</td>\n",
       "      <td>2016-04-07 06:17:27</td>\n",
       "    </tr>\n",
       "    <tr>\n",
       "      <th>freq</th>\n",
       "      <td>3</td>\n",
       "      <td>78</td>\n",
       "      <td>NaN</td>\n",
       "      <td>25756</td>\n",
       "      <td>12859</td>\n",
       "      <td>NaN</td>\n",
       "      <td>36993</td>\n",
       "      <td>NaN</td>\n",
       "      <td>4024</td>\n",
       "      <td>NaN</td>\n",
       "      <td>NaN</td>\n",
       "      <td>30107</td>\n",
       "      <td>10687</td>\n",
       "      <td>35232</td>\n",
       "      <td>1946</td>\n",
       "      <td>NaN</td>\n",
       "      <td>8</td>\n",
       "    </tr>\n",
       "    <tr>\n",
       "      <th>mean</th>\n",
       "      <td>NaN</td>\n",
       "      <td>NaN</td>\n",
       "      <td>9.840044e+03</td>\n",
       "      <td>NaN</td>\n",
       "      <td>NaN</td>\n",
       "      <td>2005.073280</td>\n",
       "      <td>NaN</td>\n",
       "      <td>116.355920</td>\n",
       "      <td>NaN</td>\n",
       "      <td>125732.700000</td>\n",
       "      <td>5.723360</td>\n",
       "      <td>NaN</td>\n",
       "      <td>NaN</td>\n",
       "      <td>NaN</td>\n",
       "      <td>NaN</td>\n",
       "      <td>50813.627300</td>\n",
       "      <td>NaN</td>\n",
       "    </tr>\n",
       "    <tr>\n",
       "      <th>std</th>\n",
       "      <td>NaN</td>\n",
       "      <td>NaN</td>\n",
       "      <td>4.811044e+05</td>\n",
       "      <td>NaN</td>\n",
       "      <td>NaN</td>\n",
       "      <td>105.712813</td>\n",
       "      <td>NaN</td>\n",
       "      <td>209.216627</td>\n",
       "      <td>NaN</td>\n",
       "      <td>40042.211706</td>\n",
       "      <td>3.711984</td>\n",
       "      <td>NaN</td>\n",
       "      <td>NaN</td>\n",
       "      <td>NaN</td>\n",
       "      <td>NaN</td>\n",
       "      <td>25779.747957</td>\n",
       "      <td>NaN</td>\n",
       "    </tr>\n",
       "    <tr>\n",
       "      <th>min</th>\n",
       "      <td>NaN</td>\n",
       "      <td>NaN</td>\n",
       "      <td>0.000000e+00</td>\n",
       "      <td>NaN</td>\n",
       "      <td>NaN</td>\n",
       "      <td>1000.000000</td>\n",
       "      <td>NaN</td>\n",
       "      <td>0.000000</td>\n",
       "      <td>NaN</td>\n",
       "      <td>5000.000000</td>\n",
       "      <td>0.000000</td>\n",
       "      <td>NaN</td>\n",
       "      <td>NaN</td>\n",
       "      <td>NaN</td>\n",
       "      <td>NaN</td>\n",
       "      <td>1067.000000</td>\n",
       "      <td>NaN</td>\n",
       "    </tr>\n",
       "    <tr>\n",
       "      <th>25%</th>\n",
       "      <td>NaN</td>\n",
       "      <td>NaN</td>\n",
       "      <td>1.100000e+03</td>\n",
       "      <td>NaN</td>\n",
       "      <td>NaN</td>\n",
       "      <td>1999.000000</td>\n",
       "      <td>NaN</td>\n",
       "      <td>70.000000</td>\n",
       "      <td>NaN</td>\n",
       "      <td>125000.000000</td>\n",
       "      <td>3.000000</td>\n",
       "      <td>NaN</td>\n",
       "      <td>NaN</td>\n",
       "      <td>NaN</td>\n",
       "      <td>NaN</td>\n",
       "      <td>30451.000000</td>\n",
       "      <td>NaN</td>\n",
       "    </tr>\n",
       "    <tr>\n",
       "      <th>50%</th>\n",
       "      <td>NaN</td>\n",
       "      <td>NaN</td>\n",
       "      <td>2.950000e+03</td>\n",
       "      <td>NaN</td>\n",
       "      <td>NaN</td>\n",
       "      <td>2003.000000</td>\n",
       "      <td>NaN</td>\n",
       "      <td>105.000000</td>\n",
       "      <td>NaN</td>\n",
       "      <td>150000.000000</td>\n",
       "      <td>6.000000</td>\n",
       "      <td>NaN</td>\n",
       "      <td>NaN</td>\n",
       "      <td>NaN</td>\n",
       "      <td>NaN</td>\n",
       "      <td>49577.000000</td>\n",
       "      <td>NaN</td>\n",
       "    </tr>\n",
       "    <tr>\n",
       "      <th>75%</th>\n",
       "      <td>NaN</td>\n",
       "      <td>NaN</td>\n",
       "      <td>7.200000e+03</td>\n",
       "      <td>NaN</td>\n",
       "      <td>NaN</td>\n",
       "      <td>2008.000000</td>\n",
       "      <td>NaN</td>\n",
       "      <td>150.000000</td>\n",
       "      <td>NaN</td>\n",
       "      <td>150000.000000</td>\n",
       "      <td>9.000000</td>\n",
       "      <td>NaN</td>\n",
       "      <td>NaN</td>\n",
       "      <td>NaN</td>\n",
       "      <td>NaN</td>\n",
       "      <td>71540.000000</td>\n",
       "      <td>NaN</td>\n",
       "    </tr>\n",
       "    <tr>\n",
       "      <th>max</th>\n",
       "      <td>NaN</td>\n",
       "      <td>NaN</td>\n",
       "      <td>1.000000e+08</td>\n",
       "      <td>NaN</td>\n",
       "      <td>NaN</td>\n",
       "      <td>9999.000000</td>\n",
       "      <td>NaN</td>\n",
       "      <td>17700.000000</td>\n",
       "      <td>NaN</td>\n",
       "      <td>150000.000000</td>\n",
       "      <td>12.000000</td>\n",
       "      <td>NaN</td>\n",
       "      <td>NaN</td>\n",
       "      <td>NaN</td>\n",
       "      <td>NaN</td>\n",
       "      <td>99998.000000</td>\n",
       "      <td>NaN</td>\n",
       "    </tr>\n",
       "  </tbody>\n",
       "</table>\n",
       "</div>"
      ],
      "text/plain": [
       "               date_crawled         name         price ab_test vehicle_type  \\\n",
       "count                 50000        50000  5.000000e+04   50000        44905   \n",
       "unique                48213        38754           NaN       2            8   \n",
       "top     2016-04-02 11:37:04  Ford_Fiesta           NaN    test    limousine   \n",
       "freq                      3           78           NaN   25756        12859   \n",
       "mean                    NaN          NaN  9.840044e+03     NaN          NaN   \n",
       "std                     NaN          NaN  4.811044e+05     NaN          NaN   \n",
       "min                     NaN          NaN  0.000000e+00     NaN          NaN   \n",
       "25%                     NaN          NaN  1.100000e+03     NaN          NaN   \n",
       "50%                     NaN          NaN  2.950000e+03     NaN          NaN   \n",
       "75%                     NaN          NaN  7.200000e+03     NaN          NaN   \n",
       "max                     NaN          NaN  1.000000e+08     NaN          NaN   \n",
       "\n",
       "        registration_year  gearbox    horsepower  model    odometer_km  \\\n",
       "count        50000.000000    47320  50000.000000  47242   50000.000000   \n",
       "unique                NaN        2           NaN    245            NaN   \n",
       "top                   NaN  manuell           NaN   golf            NaN   \n",
       "freq                  NaN    36993           NaN   4024            NaN   \n",
       "mean          2005.073280      NaN    116.355920    NaN  125732.700000   \n",
       "std            105.712813      NaN    209.216627    NaN   40042.211706   \n",
       "min           1000.000000      NaN      0.000000    NaN    5000.000000   \n",
       "25%           1999.000000      NaN     70.000000    NaN  125000.000000   \n",
       "50%           2003.000000      NaN    105.000000    NaN  150000.000000   \n",
       "75%           2008.000000      NaN    150.000000    NaN  150000.000000   \n",
       "max           9999.000000      NaN  17700.000000    NaN  150000.000000   \n",
       "\n",
       "        registration_month fuel_type       brand unrepaired_damage  \\\n",
       "count         50000.000000     45518       50000             40171   \n",
       "unique                 NaN         7          40                 2   \n",
       "top                    NaN    benzin  volkswagen              nein   \n",
       "freq                   NaN     30107       10687             35232   \n",
       "mean              5.723360       NaN         NaN               NaN   \n",
       "std               3.711984       NaN         NaN               NaN   \n",
       "min               0.000000       NaN         NaN               NaN   \n",
       "25%               3.000000       NaN         NaN               NaN   \n",
       "50%               6.000000       NaN         NaN               NaN   \n",
       "75%               9.000000       NaN         NaN               NaN   \n",
       "max              12.000000       NaN         NaN               NaN   \n",
       "\n",
       "                 ad_created   postal_code         ad_last_seen  \n",
       "count                 50000  50000.000000                50000  \n",
       "unique                   76           NaN                39481  \n",
       "top     2016-04-03 00:00:00           NaN  2016-04-07 06:17:27  \n",
       "freq                   1946           NaN                    8  \n",
       "mean                    NaN  50813.627300                  NaN  \n",
       "std                     NaN  25779.747957                  NaN  \n",
       "min                     NaN   1067.000000                  NaN  \n",
       "25%                     NaN  30451.000000                  NaN  \n",
       "50%                     NaN  49577.000000                  NaN  \n",
       "75%                     NaN  71540.000000                  NaN  \n",
       "max                     NaN  99998.000000                  NaN  "
      ]
     },
     "execution_count": 12,
     "metadata": {},
     "output_type": "execute_result"
    }
   ],
   "source": [
    "autos.describe(include=\"all\")"
   ]
  },
  {
   "cell_type": "markdown",
   "metadata": {},
   "source": [
    "### Other columns that require cleaning\n"
   ]
  },
  {
   "cell_type": "markdown",
   "metadata": {},
   "source": [
    "This leaves us with the several columns that still require attention.\n",
    "\n",
    "The following columns likely contain incorrect **outliers** that had best be filtered out:\n",
    "- The `price` column might contain inaccurate values, with an unlike minimum price of $0, and a maximum price of $99999999.\n",
    "- The `registration_year` column likewise contains several unlikely values, like the year 1000 and 9999.\n",
    "- The `horsepower` column has a questionable minimum value of 0, and a maximum value of 17700.\n",
    "- The `odometer_km` column shows the same value (150000) on the 50th and 75th percentiles and max values.\n",
    "- The `registration_month` column contains a minimum value of 0, which does not correspond to a month at all.\n",
    "\n",
    "We still have to tackle the conversion from strings to proper `DateTime` objects:\n",
    "- `date_crawled`\n",
    "- `ad_created`\n",
    "- `ad_last_seen`\n",
    "\n",
    "The following columns contain **missing values** that should be addressed:\n",
    "- `vehicle_type`\n",
    "- `gearbox`\n",
    "- `model`\n",
    "- `fuel_type`\n",
    "\n",
    "On top of that, we still need to **translate** the German string values into English."
   ]
  },
  {
   "cell_type": "markdown",
   "metadata": {},
   "source": [
    "### Removing outliers\n",
    "In the columns `price`, `registration_year`, `horsepower`, `odometer_km` and `registration_month`, we seem to have some unlikely values. Let's explore these columns further and decide whether to remove the rows with outliers or not.\n",
    "\n",
    "To remove outliers in which quantiles have any meaning (numerical, not categorical), we'll first create a function that'll efficiently allow us to remove rows with outliers from specified columns, and will return a DataFrame with outliers removed from the specified column.\n",
    "\n",
    "*Edit: turns out we only needed this exactly _once_, but for future reference, we'll leave it here and use it as needed!"
   ]
  },
  {
   "cell_type": "code",
   "execution_count": 13,
   "metadata": {},
   "outputs": [],
   "source": [
    "def remove_outliers(df, column, lower_percentile=0.01, upper_percentile=0.99):\n",
    "    \"\"\"\n",
    "    Removes outliers from a DataFrame column, based on the specified percentiles.\n",
    "\n",
    "    Parameters:\n",
    "    df: pandas DataFrame\n",
    "    column: name of the column from which we want to remove outliers, as a string\n",
    "    lower_percentile: lower percentile threshold, as a float\n",
    "    upper_percentile: upper percentile threshold, as a float\n",
    "\n",
    "    Returns:\n",
    "    pandas DataFrame with outliers removed from the specified column\n",
    "    \"\"\"\n",
    "    # Setting the lower and upper bounds for the specified column\n",
    "    lower_bound, upper_bound = df[column].quantile([lower_percentile, upper_percentile])\n",
    "    # Removing outliers from the specified column\n",
    "    cleaned_df = df[df[column].between(lower_bound, upper_bound)]\n",
    "    # Assigning the cleaned DataFrame back to the original DataFrame\n",
    "    return cleaned_df"
   ]
  },
  {
   "cell_type": "markdown",
   "metadata": {},
   "source": [
    "Let's also create a function that will seamlessly allow us to explore the data of the columns we want to explore."
   ]
  },
  {
   "cell_type": "code",
   "execution_count": 14,
   "metadata": {},
   "outputs": [],
   "source": [
    "def explore_column(df, column_name):\n",
    "    \"\"\"\n",
    "    Explores a specified column in a pandas DataFrame.\n",
    "\n",
    "    Parameters:\n",
    "    - df: pandas DataFrame.\n",
    "    - column_name: String name of the column to explore.\n",
    "\n",
    "    Prints the shape of unique values, description, and value counts sorted in ascending order for the specified column.\n",
    "    \"\"\"\n",
    "    print(f\"Exploring the {column_name} column – assessing the numbers of unique values, description, and value counts\")\n",
    "    print(\"Unique shape: \\n\", df[column_name].unique().shape)\n",
    "    print(\"Description: \\n\", df[column_name].describe())\n",
    "    print(\"Value counts, sorted ascending: \\n\", df[column_name].value_counts().sort_index(ascending=True))\n",
    "    print(\"-----------------------------------------------------------------------------------\")\n",
    "\n",
    "# Example usage:\n",
    "# explore_column(autos, \"odometer_km\")"
   ]
  },
  {
   "cell_type": "markdown",
   "metadata": {},
   "source": [
    "#### Assessing and removing `price` outliers"
   ]
  },
  {
   "cell_type": "markdown",
   "metadata": {},
   "source": [
    "To prvent scientific notation, we'll first format all floats to display four decimals. We'll go with four instead of two, because later analyses will require that measure of precision to let us come to precise conclusions about the data's distribution."
   ]
  },
  {
   "cell_type": "code",
   "execution_count": 15,
   "metadata": {},
   "outputs": [
    {
     "name": "stdout",
     "output_type": "stream",
     "text": [
      "Exploring the price column – assessing the numbers of unique values, description, and value counts\n",
      "Unique shape: \n",
      " (2357,)\n",
      "Description: \n",
      " count      50000.0000\n",
      "mean        9840.0438\n",
      "std       481104.3805\n",
      "min            0.0000\n",
      "25%         1100.0000\n",
      "50%         2950.0000\n",
      "75%         7200.0000\n",
      "max     99999999.0000\n",
      "Name: price, dtype: float64\n",
      "Value counts, sorted ascending: \n",
      " price\n",
      "0.0000           1421\n",
      "1.0000            156\n",
      "2.0000              3\n",
      "3.0000              1\n",
      "5.0000              2\n",
      "                 ... \n",
      "10000000.0000       1\n",
      "11111111.0000       2\n",
      "12345678.0000       3\n",
      "27322222.0000       1\n",
      "99999999.0000       1\n",
      "Name: count, Length: 2357, dtype: int64\n",
      "-----------------------------------------------------------------------------------\n"
     ]
    }
   ],
   "source": [
    "# Setting the display option to show four decimal places instead of scientific notation\n",
    "pd.set_option(\"display.float_format\", \"{:.4f}\".format)\n",
    "# Exploring the price column – assessing the numbers of unique values, description and value counts\n",
    "explore_column(autos, \"price\")"
   ]
  },
  {
   "cell_type": "markdown",
   "metadata": {},
   "source": [
    "Based on the above, it seems that 1421 cars were given away for free – but you can't list items for free on eBay. Furthermore, the maximum price (99999999.00) is far above the 75% percentile (7200.00).\n",
    "\n",
    "Removing all the zero values will remove approximately a third of the values in this column. However, given that meaningless values like these in such large numbers warp the accuracy of the data immensely, we'll remove them (alongside the high-price outliers).\n",
    "\n",
    "To do this as efficiently as possible, we'll delete any values below the 1st percentile (lower bound) and above the 99th percentile (upper bound), using our earlier defined function: `remove_outliers`."
   ]
  },
  {
   "cell_type": "code",
   "execution_count": 16,
   "metadata": {},
   "outputs": [
    {
     "name": "stdout",
     "output_type": "stream",
     "text": [
      "After removing price outliers: \n",
      " price\n",
      "0.0000        1421\n",
      "1.0000         156\n",
      "2.0000           3\n",
      "3.0000           1\n",
      "5.0000           2\n",
      "              ... \n",
      "35700.0000       1\n",
      "35790.0000       2\n",
      "35800.0000       1\n",
      "35890.0000       2\n",
      "35900.0000       9\n",
      "Name: count, Length: 2081, dtype: int64\n"
     ]
    }
   ],
   "source": [
    "autos = remove_outliers(autos, \"price\")\n",
    "\n",
    "# Checking the new value counts of the price column\n",
    "print(\"After removing price outliers: \\n\", autos[\"price\"].value_counts().sort_index(ascending=True))"
   ]
  },
  {
   "cell_type": "markdown",
   "metadata": {},
   "source": [
    "Now the maximum price is $35900, a much more reasonable maximum value for a (secondhand) car."
   ]
  },
  {
   "cell_type": "markdown",
   "metadata": {},
   "source": [
    "#### Assessing and removing `registration_year` outliers"
   ]
  },
  {
   "cell_type": "code",
   "execution_count": 17,
   "metadata": {},
   "outputs": [
    {
     "name": "stdout",
     "output_type": "stream",
     "text": [
      "Exploring the registration_year column – assessing the numbers of unique values, description, and value counts\n",
      "Unique shape: \n",
      " (94,)\n",
      "Description: \n",
      " count   49502.0000\n",
      "mean     2004.9652\n",
      "std       104.5489\n",
      "min      1000.0000\n",
      "25%      1999.0000\n",
      "50%      2003.0000\n",
      "75%      2008.0000\n",
      "max      9999.0000\n",
      "Name: registration_year, dtype: float64\n",
      "Value counts, sorted ascending: \n",
      " registration_year\n",
      "1000    1\n",
      "1001    1\n",
      "1111    1\n",
      "1500    1\n",
      "1800    2\n",
      "       ..\n",
      "5911    1\n",
      "8888    1\n",
      "9000    2\n",
      "9996    1\n",
      "9999    4\n",
      "Name: count, Length: 94, dtype: int64\n",
      "-----------------------------------------------------------------------------------\n"
     ]
    }
   ],
   "source": [
    "# Exploring the registration_year column – assessing the numbers of unique values, description and value counts\n",
    "explore_column(autos, \"registration_year\")"
   ]
  },
  {
   "cell_type": "markdown",
   "metadata": {},
   "source": [
    "Cars did not exist in the year 1000 (it seems the first modern car as we know it was [registered around 1886](https://arc.net/l/quote/uoskjnvb) by what we know as Mercedes-Benz).\n",
    "\n",
    "Let's see what is the most recent possible `registration_year` by seeing when the data was crawled. We'll do this, because the original dataset has since been removed, so we can't glean any information from the corresponding Kaggle page."
   ]
  },
  {
   "cell_type": "code",
   "execution_count": 18,
   "metadata": {},
   "outputs": [
    {
     "data": {
      "text/plain": [
       "'2016-04-07 14:36:56'"
      ]
     },
     "execution_count": 18,
     "metadata": {},
     "output_type": "execute_result"
    }
   ],
   "source": [
    "# Using the max method to find the most recent crawl date\n",
    "autos[\"date_crawled\"].max()"
   ]
  },
  {
   "cell_type": "markdown",
   "metadata": {},
   "source": [
    "Since the most recent crawl date was in 2016, no values above 2016 should remain in the `registration_year` column. Let's fix that, using the `between()` method once more."
   ]
  },
  {
   "cell_type": "code",
   "execution_count": 19,
   "metadata": {},
   "outputs": [
    {
     "data": {
      "text/plain": [
       "registration_year\n",
       "True     47539\n",
       "False     1963\n",
       "Name: count, dtype: int64"
      ]
     },
     "execution_count": 19,
     "metadata": {},
     "output_type": "execute_result"
    }
   ],
   "source": [
    "# Using the between method to see how many values fall outside the 1886-2020 range\n",
    "autos[\"registration_year\"].between(1886, 2016).value_counts()"
   ]
  },
  {
   "cell_type": "markdown",
   "metadata": {},
   "source": [
    "1443 values are not between our specified years, which makes up about 1443/49502 ≈ 3% . We could remove the entire rows in which these values are found.\n",
    "\n",
    "However, for the sake of preserving the other information in those rows, we'll just remove any values from the `registration_year` column from before 1885, and after 2020 (since at the time of writing, it is 2024). We'll use the `between()` method to accomplish this."
   ]
  },
  {
   "cell_type": "code",
   "execution_count": 20,
   "metadata": {},
   "outputs": [
    {
     "name": "stdout",
     "output_type": "stream",
     "text": [
      "Value count and description after outlier removal: \n",
      " registration_year\n",
      "True    47539\n",
      "Name: count, dtype: int64\n"
     ]
    },
    {
     "data": {
      "text/plain": [
       "count   47539.0000\n",
       "mean     2002.7579\n",
       "std         7.2221\n",
       "min      1910.0000\n",
       "25%      1999.0000\n",
       "50%      2003.0000\n",
       "75%      2007.0000\n",
       "max      2016.0000\n",
       "Name: registration_year, dtype: float64"
      ]
     },
     "execution_count": 20,
     "metadata": {},
     "output_type": "execute_result"
    }
   ],
   "source": [
    "# Using the between method to remove outliers from the registration_year column\n",
    "autos = autos[autos[\"registration_year\"].between(1886, 2016)]\n",
    "\n",
    "# Verifying if all outliers were removed\n",
    "print(\"Value count and description after outlier removal: \\n\", autos[\"registration_year\"].between(1886, 2016).value_counts())\n",
    "autos[\"registration_year\"].describe()"
   ]
  },
  {
   "cell_type": "markdown",
   "metadata": {},
   "source": [
    "Now it's clear that among the listed cars, the earliest year of registration is 1927, and the latest is 2016. Further more, at least 75% of the cars (≈ 31919, rounded) were first registrered in or after 1999, making making 75% of the cars listed on eBay Germany during the crawling period 20 - 21 years old at most. \n",
    "\n",
    "Meanwhile, only 25% (≈ 10639) of the cars is no older than 11 - 12 years. The newer the car, the harder it'll be to find!"
   ]
  },
  {
   "cell_type": "markdown",
   "metadata": {},
   "source": [
    "#### Assessing and removing `horsepower` outliers"
   ]
  },
  {
   "cell_type": "code",
   "execution_count": 21,
   "metadata": {},
   "outputs": [
    {
     "name": "stdout",
     "output_type": "stream",
     "text": [
      "Exploring the horsepower column – assessing the numbers of unique values, description, and value counts\n",
      "Unique shape: \n",
      " (414,)\n",
      "Description: \n",
      " count   47539.0000\n",
      "mean      115.2780\n",
      "std       194.8751\n",
      "min         0.0000\n",
      "25%        71.0000\n",
      "50%       105.0000\n",
      "75%       150.0000\n",
      "max     17700.0000\n",
      "Name: horsepower, dtype: float64\n",
      "Value counts, sorted ascending: \n",
      " horsepower\n",
      "0        4966\n",
      "1           4\n",
      "2           2\n",
      "3           2\n",
      "4           4\n",
      "         ... \n",
      "14009       1\n",
      "15001       1\n",
      "15016       1\n",
      "16312       1\n",
      "17700       1\n",
      "Name: count, Length: 414, dtype: int64\n",
      "-----------------------------------------------------------------------------------\n"
     ]
    }
   ],
   "source": [
    "# Exploring the horsepower column – assessing the numbers of unique values, description and value counts\n",
    "explore_column(autos, \"horsepower\")"
   ]
  },
  {
   "cell_type": "markdown",
   "metadata": {},
   "source": [
    "Though no working car has 0 horsepower, it could be a placeholder for people who simply didn't know and/or for people who sold cars that were out of working order (and therefore, technically, had 0 horsepower). Nevertheless, we don't particularly want 5460 likely placeholder values dirtying our DataFrame. \n",
    "\n",
    "Since there are some extremely old cars that might have only 1 horsepower, we'll go the cautious route and accept that as our lower boundary.\n",
    "\n",
    "Likewise, the highest horsepower values are unlikely to hold true: per 2020, the most powerful car apparently had 'only' [around 2000 horsepower](https://www.topgear.com/car-news/dubai-motor-show/2012bhp-aspark-owl-most-powerful-production-hypercar). As such, we'll take 2000 as our `upper_boundary` in our boolean mask.\n",
    "\n",
    "*Such as the first Mercedes-Benz, see earlier link!"
   ]
  },
  {
   "cell_type": "code",
   "execution_count": 22,
   "metadata": {},
   "outputs": [
    {
     "name": "stdout",
     "output_type": "stream",
     "text": [
      "Value count and description after outlier removal: \n",
      " horsepower\n",
      "True    42558\n",
      "Name: count, dtype: int64\n"
     ]
    },
    {
     "data": {
      "text/plain": [
       "count   42558.0000\n",
       "mean      125.6454\n",
       "std        69.7062\n",
       "min         1.0000\n",
       "25%        80.0000\n",
       "50%       116.0000\n",
       "75%       150.0000\n",
       "max      1998.0000\n",
       "Name: horsepower, dtype: float64"
      ]
     },
     "execution_count": 22,
     "metadata": {},
     "output_type": "execute_result"
    }
   ],
   "source": [
    "# Using the between method to remove outliers from the horsepower column\n",
    "autos = autos[autos[\"horsepower\"].between(1, 2000)]\n",
    "\n",
    "# Verifying if all outliers were removed\n",
    "print(\"Value count and description after outlier removal: \\n\", autos[\"horsepower\"].between(1, 2000).value_counts())\n",
    "autos[\"horsepower\"].describe()"
   ]
  },
  {
   "cell_type": "markdown",
   "metadata": {},
   "source": [
    "Now the lowest amount of horsepower is 1, and the highest is 1998. That is in line with what we might expect from cars first registered between 1927 and 2020."
   ]
  },
  {
   "cell_type": "markdown",
   "metadata": {},
   "source": [
    "#### Assessing and removing `odometer_km` outliers"
   ]
  },
  {
   "cell_type": "code",
   "execution_count": 23,
   "metadata": {},
   "outputs": [
    {
     "name": "stdout",
     "output_type": "stream",
     "text": [
      "Exploring the odometer_km column – assessing the numbers of unique values, description, and value counts\n",
      "Unique shape: \n",
      " (13,)\n",
      "Description: \n",
      " count    42558.0000\n",
      "mean    126242.0696\n",
      "std      38799.6318\n",
      "min       5000.0000\n",
      "25%     125000.0000\n",
      "50%     150000.0000\n",
      "75%     150000.0000\n",
      "max     150000.0000\n",
      "Name: odometer_km, dtype: float64\n",
      "Value counts, sorted ascending: \n",
      " odometer_km\n",
      "5000.0000        525\n",
      "10000.0000       187\n",
      "20000.0000       633\n",
      "30000.0000       677\n",
      "40000.0000       717\n",
      "50000.0000       927\n",
      "60000.0000      1044\n",
      "70000.0000      1114\n",
      "80000.0000      1285\n",
      "90000.0000      1543\n",
      "100000.0000     1882\n",
      "125000.0000     4559\n",
      "150000.0000    27465\n",
      "Name: count, dtype: int64\n",
      "-----------------------------------------------------------------------------------\n"
     ]
    }
   ],
   "source": [
    "# Exploring the odometer_km column – assessing the numbers of unique values, description and value counts\n",
    "explore_column(autos, \"odometer_km\")"
   ]
  },
  {
   "cell_type": "markdown",
   "metadata": {},
   "source": [
    "The minimum value of 5000 km seem reasonable, as does the maximum value of 150000 km. The number of cars with 50000 km on their odometer (approximately 57%), however, does seem a little excessive. However, perhaps eBay doesn't allow values over 150000 to be entered, or, upon downloading the CSV, values of '150000+' were merged with those of '150000'.\n",
    "\n",
    "In a similar vein: we might have expected more than merely 13 unique values for this column, but a reasonable reason for this is that this is the result of rounding options on eBay's listing page.\n",
    "\n",
    "As there don't appear to be any particular outliers in this column, we'll leave it as is and move on to the next."
   ]
  },
  {
   "cell_type": "markdown",
   "metadata": {},
   "source": [
    "#### Assessing and removing `registration_month` outliers"
   ]
  },
  {
   "cell_type": "code",
   "execution_count": 24,
   "metadata": {},
   "outputs": [
    {
     "name": "stdout",
     "output_type": "stream",
     "text": [
      "Exploring the registration_month column – assessing the numbers of unique values, description, and value counts\n",
      "Unique shape: \n",
      " (13,)\n",
      "Description: \n",
      " count   42558.0000\n",
      "mean        5.9622\n",
      "std         3.5955\n",
      "min         0.0000\n",
      "25%         3.0000\n",
      "50%         6.0000\n",
      "75%         9.0000\n",
      "max        12.0000\n",
      "Name: registration_month, dtype: float64\n",
      "Value counts, sorted ascending: \n",
      " registration_month\n",
      "0     2732\n",
      "1     2881\n",
      "2     2696\n",
      "3     4496\n",
      "4     3647\n",
      "5     3663\n",
      "6     3831\n",
      "7     3458\n",
      "8     2807\n",
      "9     3049\n",
      "10    3300\n",
      "11    2988\n",
      "12    3010\n",
      "Name: count, dtype: int64\n",
      "-----------------------------------------------------------------------------------\n"
     ]
    }
   ],
   "source": [
    "# Exploring the registration_month column – assessing the numbers of unique values, description and value counts\n",
    "explore_column(autos, \"registration_month\")"
   ]
  },
  {
   "cell_type": "markdown",
   "metadata": {},
   "source": [
    "The first interesting finding, is that there are 13 unique values, while a year only has 12 months. It seems the suspicious value here is '0'. This could be a typo (people wanting to type '10' for October, or maybe '01' for January'), or errant programmers using zero-indexing while counting the months.\n",
    "\n",
    "It could also be a case of 0 being used as a placeholder for cars with an unknown registration month.\n",
    "\n",
    "Now, we _could_ remove these rows to be rid of any placeholder data that might skew our analysis. Given that about 8% of thecurrent number of rows (already over 10% less than when we started) has this value, however, we'll not remove these rows, instead bearing in mind the presence of placeholder values should the need arise."
   ]
  },
  {
   "cell_type": "markdown",
   "metadata": {},
   "source": [
    "## Translating German values into English\n",
    "To increase the legibility of the dataset's columns with string values for those who don't speak German, it's a good idea to translate them. Let's take a look at all the string columns first."
   ]
  },
  {
   "cell_type": "code",
   "execution_count": 25,
   "metadata": {},
   "outputs": [
    {
     "name": "stdout",
     "output_type": "stream",
     "text": [
      "              date_crawled                                               name  \\\n",
      "0      2016-03-26 17:47:46                   Peugeot_807_160_NAVTECH_ON_BOARD   \n",
      "1      2016-04-04 13:38:56         BMW_740i_4_4_Liter_HAMANN_UMBAU_Mega_Optik   \n",
      "2      2016-03-26 18:57:24                         Volkswagen_Golf_1.6_United   \n",
      "3      2016-03-12 16:58:10  Smart_smart_fortwo_coupe_softouch/F1/Klima/Pan...   \n",
      "5      2016-03-21 13:47:45  Chrysler_Grand_Voyager_2.8_CRD_Aut.Limited_Sto...   \n",
      "...                    ...                                                ...   \n",
      "49995  2016-03-27 14:38:19   Audi_Q5_3.0_TDI_qu._S_tr.__Navi__Panorama__Xenon   \n",
      "49996  2016-03-28 10:50:25  Opel_Astra_F_Cabrio_Bertone_Edition___TÜV_neu+...   \n",
      "49997  2016-04-02 14:44:48                     Fiat_500_C_1.2_Dualogic_Lounge   \n",
      "49998  2016-03-08 19:25:42                 Audi_A3_2.0_TDI_Sportback_Ambition   \n",
      "49999  2016-03-14 00:42:12                                Opel_Vectra_1.6_16V   \n",
      "\n",
      "       ab_test vehicle_type    gearbox    model fuel_type       brand  \\\n",
      "0      control          bus    manuell   andere       lpg     peugeot   \n",
      "1      control    limousine  automatik      7er    benzin         bmw   \n",
      "2         test    limousine    manuell     golf    benzin  volkswagen   \n",
      "3      control   kleinwagen  automatik   fortwo    benzin       smart   \n",
      "5         test          bus  automatik  voyager    diesel    chrysler   \n",
      "...        ...          ...        ...      ...       ...         ...   \n",
      "49995  control    limousine  automatik       q5    diesel        audi   \n",
      "49996  control       cabrio    manuell    astra    benzin        opel   \n",
      "49997     test       cabrio  automatik      500    benzin        fiat   \n",
      "49998  control        kombi    manuell       a3    diesel        audi   \n",
      "49999  control    limousine    manuell   vectra    benzin        opel   \n",
      "\n",
      "      unrepaired_damage           ad_created         ad_last_seen  \n",
      "0                  nein  2016-03-26 00:00:00  2016-04-06 06:45:54  \n",
      "1                  nein  2016-04-04 00:00:00  2016-04-06 14:45:08  \n",
      "2                  nein  2016-03-26 00:00:00  2016-04-06 20:15:37  \n",
      "3                  nein  2016-03-12 00:00:00  2016-03-15 03:16:28  \n",
      "5                   NaN  2016-03-21 00:00:00  2016-04-06 09:45:21  \n",
      "...                 ...                  ...                  ...  \n",
      "49995              nein  2016-03-27 00:00:00  2016-04-01 13:47:40  \n",
      "49996              nein  2016-03-28 00:00:00  2016-04-02 14:18:02  \n",
      "49997              nein  2016-04-02 00:00:00  2016-04-04 11:47:27  \n",
      "49998              nein  2016-03-08 00:00:00  2016-04-05 16:45:07  \n",
      "49999              nein  2016-03-13 00:00:00  2016-04-06 21:18:48  \n",
      "\n",
      "[42558 rows x 11 columns]\n"
     ]
    }
   ],
   "source": [
    "# Viewing all columns with string (\"object\") dtypes\n",
    "print(autos.select_dtypes(include=\"object\"))"
   ]
  },
  {
   "cell_type": "markdown",
   "metadata": {},
   "source": [
    "There's no need for us to translate the values in the `name` column, as this is column is of no consequence to any likely-to-be-performed analyses. Meanwhile, the `ab_test` column contains English terms. Here are the columns we need to further investigate and translate:\n",
    "\n",
    "- `vehicle_type`\n",
    "- `gearbox`\n",
    "- `model`\n",
    "- `fuel_type`\n",
    "- `brand` (just in case there is a word meaning 'other' or 'unidentified' in there)\n",
    "- `unrepaired_damage`\n",
    "\n",
    "Translations will happen based on my own knowledge of German (as someone who grew up around the language), verified by means of Wikipedia articles.\n",
    "\n",
    "Let's check out the unique values of each column, and translate what needs to be translated. We'll use `values_count()`, because I personally find the outcome easier to read than that of `unique()`."
   ]
  },
  {
   "cell_type": "markdown",
   "metadata": {},
   "source": [
    "### Translating the `vehicle_type` column"
   ]
  },
  {
   "cell_type": "code",
   "execution_count": 26,
   "metadata": {},
   "outputs": [
    {
     "data": {
      "text/plain": [
       "vehicle_type\n",
       "limousine     11902\n",
       "kleinwagen     9703\n",
       "kombi          8445\n",
       "bus            3738\n",
       "cabrio         2766\n",
       "coupe          2265\n",
       "suv            1776\n",
       "andere          328\n",
       "Name: count, dtype: int64"
      ]
     },
     "execution_count": 26,
     "metadata": {},
     "output_type": "execute_result"
    }
   ],
   "source": [
    "# Exploring unique values in the vehicle_type column\n",
    "autos[\"vehicle_type\"].value_counts()"
   ]
  },
  {
   "cell_type": "markdown",
   "metadata": {},
   "source": [
    "Words that need translating:\n",
    "- _limousine_ ⇔ sedan\n",
    "- _kleinwagen_ ⇔ supermini, or subcompact\n",
    "- _kombi_ ⇔ station wagon\n",
    "- _bus_ ⇔ van\n",
    "- _cabrio_ ⇔ convertible, or cabriolet\n",
    "- _andere_ ⇔ other\n",
    "\n",
    "Let's go with the first option there where we have two, and get to replacing the values in this column!"
   ]
  },
  {
   "cell_type": "code",
   "execution_count": 27,
   "metadata": {},
   "outputs": [
    {
     "data": {
      "text/plain": [
       "vehicle_type\n",
       "sedan            11902\n",
       "supermini         9703\n",
       "station wagon     8445\n",
       "van               3738\n",
       "convertible       2766\n",
       "coupe             2265\n",
       "suv               1776\n",
       "other              328\n",
       "Name: count, dtype: int64"
      ]
     },
     "execution_count": 27,
     "metadata": {},
     "output_type": "execute_result"
    }
   ],
   "source": [
    "# Creating a mapping dictionary to convert German vehicle types to English\n",
    "vehicle_type_mapping = {\n",
    "    \"limousine\": \"sedan\",\n",
    "    \"kleinwagen\": \"supermini\",\n",
    "    \"kombi\": \"station wagon\",\n",
    "    \"bus\": \"van\",\n",
    "    \"cabrio\": \"convertible\",\n",
    "    \"coupe\": \"coupe\",\n",
    "    \"suv\": \"suv\",\n",
    "    \"andere\": \"other\"\n",
    "}\n",
    "\n",
    "# Mapping the German vehicle types to English\n",
    "autos[\"vehicle_type\"] = autos[\"vehicle_type\"].map(vehicle_type_mapping)\n",
    "\n",
    "# Verifying the changes\n",
    "autos[\"vehicle_type\"].value_counts()"
   ]
  },
  {
   "cell_type": "markdown",
   "metadata": {},
   "source": [
    "### Translating the `gearbox` column"
   ]
  },
  {
   "cell_type": "code",
   "execution_count": 28,
   "metadata": {},
   "outputs": [
    {
     "data": {
      "text/plain": [
       "gearbox\n",
       "manuell      32726\n",
       "automatik     9069\n",
       "Name: count, dtype: int64"
      ]
     },
     "execution_count": 28,
     "metadata": {},
     "output_type": "execute_result"
    }
   ],
   "source": [
    "# Exploring unique values in the gearbox column\n",
    "autos[\"gearbox\"].value_counts()"
   ]
  },
  {
   "cell_type": "markdown",
   "metadata": {},
   "source": [
    "Let's translate both values here:\n",
    "- _manuell_ ⇔ manual\n",
    "- _automatik_ ⇔ automatic"
   ]
  },
  {
   "cell_type": "code",
   "execution_count": 29,
   "metadata": {},
   "outputs": [
    {
     "data": {
      "text/plain": [
       "gearbox\n",
       "manual       32726\n",
       "automatic     9069\n",
       "Name: count, dtype: int64"
      ]
     },
     "execution_count": 29,
     "metadata": {},
     "output_type": "execute_result"
    }
   ],
   "source": [
    "# Creating a mapping dictionary to convert German gearbox types to English\n",
    "gearbox_mapping = {\n",
    "    \"manuell\": \"manual\",\n",
    "    \"automatik\": \"automatic\"\n",
    "}\n",
    "\n",
    "# Mapping the German gearbox types to English\n",
    "autos[\"gearbox\"] = autos[\"gearbox\"].map(gearbox_mapping)\n",
    "\n",
    "# Verifying the changes\n",
    "autos[\"gearbox\"].value_counts()"
   ]
  },
  {
   "cell_type": "markdown",
   "metadata": {},
   "source": [
    "### Translating the `fuel_type` column"
   ]
  },
  {
   "cell_type": "code",
   "execution_count": 30,
   "metadata": {},
   "outputs": [
    {
     "data": {
      "text/plain": [
       "fuel_type\n",
       "benzin     26464\n",
       "diesel     13047\n",
       "lpg          624\n",
       "cng           65\n",
       "hybrid        35\n",
       "elektro       14\n",
       "andere         9\n",
       "Name: count, dtype: int64"
      ]
     },
     "execution_count": 30,
     "metadata": {},
     "output_type": "execute_result"
    }
   ],
   "source": [
    "# Exploring unique values in the fuel_type column\n",
    "autos[\"fuel_type\"].value_counts()"
   ]
  },
  {
   "cell_type": "markdown",
   "metadata": {},
   "source": [
    "We'll translate the following terms:\n",
    "- _benzin_ ⇔ gasoline, or petrol (we'll go with _gasoline_)\n",
    "- _elektro_ ⇔ electric\n",
    "- _andere_ ⇔ other"
   ]
  },
  {
   "cell_type": "code",
   "execution_count": 31,
   "metadata": {},
   "outputs": [
    {
     "data": {
      "text/plain": [
       "fuel_type\n",
       "gasoline    26464\n",
       "diesel      13047\n",
       "lpg           624\n",
       "cng            65\n",
       "hybrid         35\n",
       "electric       14\n",
       "other           9\n",
       "Name: count, dtype: int64"
      ]
     },
     "execution_count": 31,
     "metadata": {},
     "output_type": "execute_result"
    }
   ],
   "source": [
    "# Creating a mapping dictionary to convert German fuel types to English\n",
    "fuel_type_mapping = {\n",
    "    \"benzin\": \"gasoline\",\n",
    "    \"diesel\": \"diesel\",\n",
    "    \"lpg\": \"lpg\",\n",
    "    \"cng\": \"cng\",\n",
    "    \"hybrid\": \"hybrid\",\n",
    "    \"elektro\": \"electric\",\n",
    "    \"andere\": \"other\"\n",
    "}\n",
    "\n",
    "# Mapping the German fuel types to English\n",
    "autos[\"fuel_type\"] = autos[\"fuel_type\"].map(fuel_type_mapping)\n",
    "\n",
    "# Verifying the changes\n",
    "autos[\"fuel_type\"].value_counts()"
   ]
  },
  {
   "cell_type": "markdown",
   "metadata": {},
   "source": [
    "### Translating the `brand` column"
   ]
  },
  {
   "cell_type": "code",
   "execution_count": 32,
   "metadata": {},
   "outputs": [
    {
     "data": {
      "text/plain": [
       "brand\n",
       "volkswagen        9136\n",
       "bmw               4846\n",
       "opel              4576\n",
       "mercedes_benz     4046\n",
       "audi              3755\n",
       "ford              2923\n",
       "renault           1927\n",
       "peugeot           1272\n",
       "fiat              1072\n",
       "seat               796\n",
       "skoda              724\n",
       "mazda              660\n",
       "nissan             631\n",
       "citroen            590\n",
       "smart              590\n",
       "toyota             547\n",
       "hyundai            434\n",
       "volvo              406\n",
       "mini               399\n",
       "mitsubishi         349\n",
       "honda              346\n",
       "sonstige_autos     316\n",
       "kia                310\n",
       "alfa_romeo         288\n",
       "suzuki             254\n",
       "chevrolet          235\n",
       "chrysler           157\n",
       "porsche            141\n",
       "dacia              114\n",
       "daihatsu            99\n",
       "subaru              98\n",
       "jeep                93\n",
       "land_rover          74\n",
       "saab                72\n",
       "jaguar              64\n",
       "daewoo              55\n",
       "rover               51\n",
       "trabant             46\n",
       "lancia              45\n",
       "lada                21\n",
       "Name: count, dtype: int64"
      ]
     },
     "execution_count": 32,
     "metadata": {},
     "output_type": "execute_result"
    }
   ],
   "source": [
    "# Exploring unique values in the brand column\n",
    "autos[\"brand\"].value_counts()"
   ]
  },
  {
   "cell_type": "markdown",
   "metadata": {},
   "source": [
    "From the above, we only need to translate _sonstige autos_ into _other cars_. Because the list of available brands is as long as it is, we'll use the `replace()` method to save time and space."
   ]
  },
  {
   "cell_type": "code",
   "execution_count": 33,
   "metadata": {},
   "outputs": [
    {
     "data": {
      "text/plain": [
       "brand\n",
       "volkswagen       9136\n",
       "bmw              4846\n",
       "opel             4576\n",
       "mercedes_benz    4046\n",
       "audi             3755\n",
       "ford             2923\n",
       "renault          1927\n",
       "peugeot          1272\n",
       "fiat             1072\n",
       "seat              796\n",
       "skoda             724\n",
       "mazda             660\n",
       "nissan            631\n",
       "citroen           590\n",
       "smart             590\n",
       "toyota            547\n",
       "hyundai           434\n",
       "volvo             406\n",
       "mini              399\n",
       "mitsubishi        349\n",
       "honda             346\n",
       "other cars        316\n",
       "kia               310\n",
       "alfa_romeo        288\n",
       "suzuki            254\n",
       "chevrolet         235\n",
       "chrysler          157\n",
       "porsche           141\n",
       "dacia             114\n",
       "daihatsu           99\n",
       "subaru             98\n",
       "jeep               93\n",
       "land_rover         74\n",
       "saab               72\n",
       "jaguar             64\n",
       "daewoo             55\n",
       "rover              51\n",
       "trabant            46\n",
       "lancia             45\n",
       "lada               21\n",
       "Name: count, dtype: int64"
      ]
     },
     "execution_count": 33,
     "metadata": {},
     "output_type": "execute_result"
    }
   ],
   "source": [
    "# Using the replace method to turn \"sonstige_autos\" into \"other cars\"\n",
    "autos[\"brand\"] = autos[\"brand\"].replace(\"sonstige_autos\", \"other cars\")\n",
    "\n",
    "# Verifying the changes\n",
    "autos[\"brand\"].value_counts()"
   ]
  },
  {
   "cell_type": "markdown",
   "metadata": {},
   "source": [
    "### Translating the `unrepaired_damage` column"
   ]
  },
  {
   "cell_type": "code",
   "execution_count": 34,
   "metadata": {},
   "outputs": [
    {
     "data": {
      "text/plain": [
       "unrepaired_damage\n",
       "nein    32071\n",
       "ja       4197\n",
       "Name: count, dtype: int64"
      ]
     },
     "execution_count": 34,
     "metadata": {},
     "output_type": "execute_result"
    }
   ],
   "source": [
    "# Exploring unique values in the unrepaired_damage column\n",
    "autos[\"unrepaired_damage\"].value_counts()"
   ]
  },
  {
   "cell_type": "markdown",
   "metadata": {},
   "source": [
    "Easy enough – let's translate the two values:\n",
    "- _nein_  ⇔ no\n",
    "- _ja_ ⇔ yes"
   ]
  },
  {
   "cell_type": "code",
   "execution_count": 35,
   "metadata": {},
   "outputs": [
    {
     "data": {
      "text/plain": [
       "unrepaired_damage\n",
       "no     32071\n",
       "yes     4197\n",
       "Name: count, dtype: int64"
      ]
     },
     "execution_count": 35,
     "metadata": {},
     "output_type": "execute_result"
    }
   ],
   "source": [
    "# Creating a mapping dictionary to convert German unrepaired damage types to English\n",
    "unrepaired_damage_mapping = {\n",
    "    \"nein\": \"no\",\n",
    "    \"ja\": \"yes\"\n",
    "}\n",
    "\n",
    "# Mapping the German unrepaired damage types to English\n",
    "autos[\"unrepaired_damage\"] = autos[\"unrepaired_damage\"].map(unrepaired_damage_mapping)\n",
    "\n",
    "# Verifying the changes\n",
    "autos[\"unrepaired_damage\"].value_counts()"
   ]
  },
  {
   "cell_type": "markdown",
   "metadata": {},
   "source": [
    "## Exploring the date columns\n",
    "As mentioned before, the `date_crawled`, `ad_created` and `ad_last_seen` columns are formatted into string objects. To make sense of them quantitavely and be able to use them in analyses, we want to convert them into numeric values.\n",
    "\n",
    "Note that we're not converting the integers in `registration_month` and `registration_year` here. Reminder: `TimeStamp` (like `DateTime`) objects require a full date consisting of days, months and years. That makes these columns' values unsuitable for conversion.\n",
    "\n",
    "Before all else, let's explore the dates and times listed in the `date_crawled`, `ad_created` and `ad_last_seen` columns and check out their current formatting."
   ]
  },
  {
   "cell_type": "code",
   "execution_count": 36,
   "metadata": {},
   "outputs": [
    {
     "data": {
      "text/html": [
       "<div>\n",
       "<style scoped>\n",
       "    .dataframe tbody tr th:only-of-type {\n",
       "        vertical-align: middle;\n",
       "    }\n",
       "\n",
       "    .dataframe tbody tr th {\n",
       "        vertical-align: top;\n",
       "    }\n",
       "\n",
       "    .dataframe thead th {\n",
       "        text-align: right;\n",
       "    }\n",
       "</style>\n",
       "<table border=\"1\" class=\"dataframe\">\n",
       "  <thead>\n",
       "    <tr style=\"text-align: right;\">\n",
       "      <th></th>\n",
       "      <th>date_crawled</th>\n",
       "      <th>ad_created</th>\n",
       "      <th>ad_last_seen</th>\n",
       "    </tr>\n",
       "  </thead>\n",
       "  <tbody>\n",
       "    <tr>\n",
       "      <th>0</th>\n",
       "      <td>2016-03-26 17:47:46</td>\n",
       "      <td>2016-03-26 00:00:00</td>\n",
       "      <td>2016-04-06 06:45:54</td>\n",
       "    </tr>\n",
       "    <tr>\n",
       "      <th>1</th>\n",
       "      <td>2016-04-04 13:38:56</td>\n",
       "      <td>2016-04-04 00:00:00</td>\n",
       "      <td>2016-04-06 14:45:08</td>\n",
       "    </tr>\n",
       "    <tr>\n",
       "      <th>2</th>\n",
       "      <td>2016-03-26 18:57:24</td>\n",
       "      <td>2016-03-26 00:00:00</td>\n",
       "      <td>2016-04-06 20:15:37</td>\n",
       "    </tr>\n",
       "    <tr>\n",
       "      <th>3</th>\n",
       "      <td>2016-03-12 16:58:10</td>\n",
       "      <td>2016-03-12 00:00:00</td>\n",
       "      <td>2016-03-15 03:16:28</td>\n",
       "    </tr>\n",
       "    <tr>\n",
       "      <th>5</th>\n",
       "      <td>2016-03-21 13:47:45</td>\n",
       "      <td>2016-03-21 00:00:00</td>\n",
       "      <td>2016-04-06 09:45:21</td>\n",
       "    </tr>\n",
       "  </tbody>\n",
       "</table>\n",
       "</div>"
      ],
      "text/plain": [
       "          date_crawled           ad_created         ad_last_seen\n",
       "0  2016-03-26 17:47:46  2016-03-26 00:00:00  2016-04-06 06:45:54\n",
       "1  2016-04-04 13:38:56  2016-04-04 00:00:00  2016-04-06 14:45:08\n",
       "2  2016-03-26 18:57:24  2016-03-26 00:00:00  2016-04-06 20:15:37\n",
       "3  2016-03-12 16:58:10  2016-03-12 00:00:00  2016-03-15 03:16:28\n",
       "5  2016-03-21 13:47:45  2016-03-21 00:00:00  2016-04-06 09:45:21"
      ]
     },
     "execution_count": 36,
     "metadata": {},
     "output_type": "execute_result"
    }
   ],
   "source": [
    "# Printing the first five date strings in each column\n",
    "autos[[\"date_crawled\", \"ad_created\", \"ad_last_seen\"]].head()"
   ]
  },
  {
   "cell_type": "markdown",
   "metadata": {},
   "source": [
    "Above, we can see that the strings contain both dates and times. The first ten characters contain encompass the dates.\n",
    "\n",
    "Let's convert these columns to `DateTime` objects."
   ]
  },
  {
   "cell_type": "markdown",
   "metadata": {},
   "source": [
    "### Converting `date_crawled`, `ad_created` and `ad_last_seen` to `DateTime` objects"
   ]
  },
  {
   "cell_type": "code",
   "execution_count": 37,
   "metadata": {},
   "outputs": [
    {
     "name": "stdout",
     "output_type": "stream",
     "text": [
      "<class 'pandas.core.frame.DataFrame'>\n",
      "Index: 42558 entries, 0 to 49999\n",
      "Data columns (total 3 columns):\n",
      " #   Column        Non-Null Count  Dtype         \n",
      "---  ------        --------------  -----         \n",
      " 0   date_crawled  42558 non-null  datetime64[ns]\n",
      " 1   ad_created    42558 non-null  datetime64[ns]\n",
      " 2   ad_last_seen  42558 non-null  datetime64[ns]\n",
      "dtypes: datetime64[ns](3)\n",
      "memory usage: 1.3 MB\n"
     ]
    }
   ],
   "source": [
    "autos[\"date_crawled\"] = pd.to_datetime(autos[\"date_crawled\"], format=\"%Y-%m-%d %H:%M:%S\")\n",
    "autos[\"ad_created\"] = pd.to_datetime(autos[\"ad_created\"], format=\"%Y-%m-%d %H:%M:%S\")\n",
    "autos[\"ad_last_seen\"] = pd.to_datetime(autos[\"ad_last_seen\"], format=\"%Y-%m-%d %H:%M:%S\")\n",
    "\n",
    "# Verifying the changes\n",
    "autos[[\"date_crawled\", \"ad_created\", \"ad_last_seen\"]].info()"
   ]
  },
  {
   "cell_type": "markdown",
   "metadata": {},
   "source": [
    "### Exploring distributions of `date_crawled`, `ad_created` and `ad_last_seen`\n",
    "Because we're mainly interested in the dates, we'll create a distribution (using `.value_counts()`) using only the first ten characters from the strings. That will also make the value counts more manageable, given the large number of times these value counts would otherwise include!\n",
    "\n",
    "To do this, we use the 'floor' (lowest 'part' of a `TimeFrame` object) to demarcate what parts of the object we want to include: from the floor up. If we use the day as the floor, Python will know to include the days, months and years in its calculations."
   ]
  },
  {
   "cell_type": "code",
   "execution_count": 38,
   "metadata": {},
   "outputs": [
    {
     "data": {
      "text/plain": [
       "date_crawled\n",
       "2016-03-05   0.0254\n",
       "2016-03-06   0.0141\n",
       "2016-03-07   0.0365\n",
       "2016-03-08   0.0335\n",
       "2016-03-09   0.0332\n",
       "2016-03-10   0.0321\n",
       "2016-03-11   0.0321\n",
       "2016-03-12   0.0374\n",
       "2016-03-13   0.0157\n",
       "2016-03-14   0.0368\n",
       "2016-03-15   0.0340\n",
       "2016-03-16   0.0293\n",
       "2016-03-17   0.0313\n",
       "2016-03-18   0.0127\n",
       "2016-03-19   0.0345\n",
       "2016-03-20   0.0385\n",
       "2016-03-21   0.0370\n",
       "2016-03-22   0.0324\n",
       "2016-03-23   0.0317\n",
       "2016-03-24   0.0292\n",
       "2016-03-25   0.0319\n",
       "2016-03-26   0.0326\n",
       "2016-03-27   0.0305\n",
       "2016-03-28   0.0350\n",
       "2016-03-29   0.0339\n",
       "2016-03-30   0.0338\n",
       "2016-03-31   0.0319\n",
       "2016-04-01   0.0340\n",
       "2016-04-02   0.0354\n",
       "2016-04-03   0.0392\n",
       "2016-04-04   0.0369\n",
       "2016-04-05   0.0129\n",
       "2016-04-06   0.0031\n",
       "2016-04-07   0.0014\n",
       "Name: proportion, dtype: float64"
      ]
     },
     "execution_count": 38,
     "metadata": {},
     "output_type": "execute_result"
    }
   ],
   "source": [
    "# Exploring the date_crawled column – assessing the percentages of unique dates to determine the distribution\n",
    "autos[\"date_crawled\"].dt.floor(freq=\"d\").value_counts(normalize=True, dropna=False).sort_index()"
   ]
  },
  {
   "cell_type": "markdown",
   "metadata": {},
   "source": [
    "This shows us that the ads were crawled over a period of just a little over one month.\n",
    "\n",
    "Now let's see what we can glean from the distribution of the `ad_created` column."
   ]
  },
  {
   "cell_type": "code",
   "execution_count": 39,
   "metadata": {},
   "outputs": [
    {
     "data": {
      "text/plain": [
       "ad_created\n",
       "2015-08-10   0.0000\n",
       "2015-09-09   0.0000\n",
       "2015-11-10   0.0000\n",
       "2015-12-05   0.0000\n",
       "2015-12-30   0.0000\n",
       "              ...  \n",
       "2016-04-03   0.0395\n",
       "2016-04-04   0.0373\n",
       "2016-04-05   0.0116\n",
       "2016-04-06   0.0031\n",
       "2016-04-07   0.0013\n",
       "Name: proportion, Length: 72, dtype: float64"
      ]
     },
     "execution_count": 39,
     "metadata": {},
     "output_type": "execute_result"
    }
   ],
   "source": [
    "# Exploring the ad_created column – assessing the percentages of unique values to determine the distribution\n",
    "autos[\"ad_created\"].dt.floor(freq=\"d\").value_counts(normalize=True, dropna=False).sort_index()"
   ]
  },
  {
   "cell_type": "markdown",
   "metadata": {},
   "source": [
    "The ads crawled for this dataset, were created between early august of 2015, and early april of 2016. That would mean that on average, about 205 ads were created per day (50000 ads / 244 days). Impressive!\n",
    "\n",
    "Granted, this does not take into account several issues in this dataset, such as the fact that there is a near month-long gap between the first two values in the value count above. Could there really have been a whole month without any ad creations?\n",
    "\n",
    "To be sure, let's see the distribution of created ads between the two years."
   ]
  },
  {
   "cell_type": "code",
   "execution_count": 40,
   "metadata": {},
   "outputs": [
    {
     "data": {
      "text/plain": [
       "ad_created\n",
       "2015   0.0001\n",
       "2016   0.9999\n",
       "Name: proportion, dtype: float64"
      ]
     },
     "execution_count": 40,
     "metadata": {},
     "output_type": "execute_result"
    }
   ],
   "source": [
    "# Exploring the ad_created column – assessing the percentages of unique years to determine the distribution\n",
    "autos[\"ad_created\"].dt.year.value_counts(normalize=True, dropna=False).sort_index()"
   ]
  },
  {
   "cell_type": "markdown",
   "metadata": {},
   "source": [
    "This shows us that the grand majority of ads that were crawled for this dataset, were created in 2016. Given that the last date in `ad_created` is the 7th of April of 2016, that would turn the average number of ads per day into something closer to 50000 ads / 97 days ≈ 515 ads a day.\n",
    "\n",
    "This does beg the question as to why hardly any ads were created in the final four months of 2015. These numbers, however, may be a result of a fault in the dataset.\n",
    "\n",
    "Let's also check out at what time people tend to create their listings."
   ]
  },
  {
   "cell_type": "code",
   "execution_count": 41,
   "metadata": {},
   "outputs": [
    {
     "data": {
      "text/plain": [
       "ad_created\n",
       "00:00:00   1.0000\n",
       "Name: proportion, dtype: float64"
      ]
     },
     "execution_count": 41,
     "metadata": {},
     "output_type": "execute_result"
    }
   ],
   "source": [
    "# Exploring the ad_created column – assessing the numbers of unique hours to determine the distribution\n",
    "autos[\"ad_created\"].dt.time.value_counts(normalize=True, dropna=False).sort_index()"
   ]
  },
  {
   "cell_type": "markdown",
   "metadata": {},
   "source": [
    "This makes it seem like all listings were created exactly at midnight, which doesn't make sense. We can assume this is the result of the crawler only having access to the date of creation, or a choice made by the person who collected the data not to include detailed time information. Unfortunately, this means we can't come to any meaningful conclusions about the times at which listings are most often created.\n",
    "\n",
    "Let's now check out `ad_last_seen`'s distribution."
   ]
  },
  {
   "cell_type": "code",
   "execution_count": 42,
   "metadata": {},
   "outputs": [
    {
     "data": {
      "text/plain": [
       "ad_last_seen\n",
       "2016-03-05   0.0011\n",
       "2016-03-06   0.0040\n",
       "2016-03-07   0.0050\n",
       "2016-03-08   0.0072\n",
       "2016-03-09   0.0097\n",
       "2016-03-10   0.0104\n",
       "2016-03-11   0.0123\n",
       "2016-03-12   0.0236\n",
       "2016-03-13   0.0085\n",
       "2016-03-14   0.0128\n",
       "2016-03-15   0.0159\n",
       "2016-03-16   0.0159\n",
       "2016-03-17   0.0276\n",
       "2016-03-18   0.0071\n",
       "2016-03-19   0.0157\n",
       "2016-03-20   0.0206\n",
       "2016-03-21   0.0200\n",
       "2016-03-22   0.0207\n",
       "2016-03-23   0.0185\n",
       "2016-03-24   0.0192\n",
       "2016-03-25   0.0189\n",
       "2016-03-26   0.0165\n",
       "2016-03-27   0.0156\n",
       "2016-03-28   0.0204\n",
       "2016-03-29   0.0219\n",
       "2016-03-30   0.0249\n",
       "2016-03-31   0.0234\n",
       "2016-04-01   0.0233\n",
       "2016-04-02   0.0249\n",
       "2016-04-03   0.0250\n",
       "2016-04-04   0.0241\n",
       "2016-04-05   0.1265\n",
       "2016-04-06   0.2261\n",
       "2016-04-07   0.1328\n",
       "Name: proportion, dtype: float64"
      ]
     },
     "execution_count": 42,
     "metadata": {},
     "output_type": "execute_result"
    }
   ],
   "source": [
    "# Exploring the ad_last_seen column – assessing the percentages of unique values to determine the distribution\n",
    "autos[\"ad_last_seen\"].dt.floor(freq=\"d\").value_counts(normalize=True, dropna=False).sort_index()"
   ]
  },
  {
   "cell_type": "markdown",
   "metadata": {},
   "source": [
    "All the ads were last seen within a month of each other, apparently: starting at the 5th of March of 2016, and ending at the 7th of April of 2016. Moreover, over half of the ads were seen during the period of the last three days.\n",
    "\n",
    "This information can be used to determine when an entry was removed (e.g. the car being sold, the listing expiring or the listing being taken down for any other reason). However, when cross-referencing the rows (especially of those whose ads were last seen during the last 3 days) with those of the `date_crawled` column, we might assume that those numbers are so high simply because those dates mark the end of the crawling time window."
   ]
  },
  {
   "cell_type": "markdown",
   "metadata": {},
   "source": [
    "## Analysing the average price per brand\n",
    "With the data cleaning out of the way, it's time for some actual analyses. Let's take a look at prices per brands, and how the two might relate to each other. To do this, we'll perform aggregation by the `brand` column to explore differences in price across brands.\n",
    "\n",
    "First, however, let's explore the `brand` column."
   ]
  },
  {
   "cell_type": "markdown",
   "metadata": {},
   "source": [
    "### Exploring the `brand` column"
   ]
  },
  {
   "cell_type": "code",
   "execution_count": 43,
   "metadata": {},
   "outputs": [
    {
     "name": "stdout",
     "output_type": "stream",
     "text": [
      "Exploring the brand column – assessing the numbers of unique values, description, and value counts\n",
      "Unique shape: \n",
      " (40,)\n",
      "Description: \n",
      " count          42558\n",
      "unique            40\n",
      "top       volkswagen\n",
      "freq            9136\n",
      "Name: brand, dtype: object\n",
      "Value counts, sorted ascending: \n",
      " brand\n",
      "alfa_romeo        288\n",
      "audi             3755\n",
      "bmw              4846\n",
      "chevrolet         235\n",
      "chrysler          157\n",
      "citroen           590\n",
      "dacia             114\n",
      "daewoo             55\n",
      "daihatsu           99\n",
      "fiat             1072\n",
      "ford             2923\n",
      "honda             346\n",
      "hyundai           434\n",
      "jaguar             64\n",
      "jeep               93\n",
      "kia               310\n",
      "lada               21\n",
      "lancia             45\n",
      "land_rover         74\n",
      "mazda             660\n",
      "mercedes_benz    4046\n",
      "mini              399\n",
      "mitsubishi        349\n",
      "nissan            631\n",
      "opel             4576\n",
      "other cars        316\n",
      "peugeot          1272\n",
      "porsche           141\n",
      "renault          1927\n",
      "rover              51\n",
      "saab               72\n",
      "seat              796\n",
      "skoda             724\n",
      "smart             590\n",
      "subaru             98\n",
      "suzuki            254\n",
      "toyota            547\n",
      "trabant            46\n",
      "volkswagen       9136\n",
      "volvo             406\n",
      "Name: count, dtype: int64\n",
      "-----------------------------------------------------------------------------------\n"
     ]
    }
   ],
   "source": [
    "explore_column(autos, \"brand\")"
   ]
  },
  {
   "cell_type": "markdown",
   "metadata": {},
   "source": [
    "Here, we can see we have a total of 40 unique car brands in this column, across 44001 rows. However, the distribution is not at all equal. Let's look at percentages to get a better idea:"
   ]
  },
  {
   "cell_type": "code",
   "execution_count": 44,
   "metadata": {},
   "outputs": [
    {
     "data": {
      "text/plain": [
       "brand\n",
       "volkswagen      0.2147\n",
       "bmw             0.1139\n",
       "opel            0.1075\n",
       "mercedes_benz   0.0951\n",
       "audi            0.0882\n",
       "ford            0.0687\n",
       "renault         0.0453\n",
       "peugeot         0.0299\n",
       "fiat            0.0252\n",
       "seat            0.0187\n",
       "skoda           0.0170\n",
       "mazda           0.0155\n",
       "nissan          0.0148\n",
       "citroen         0.0139\n",
       "smart           0.0139\n",
       "toyota          0.0129\n",
       "hyundai         0.0102\n",
       "volvo           0.0095\n",
       "mini            0.0094\n",
       "mitsubishi      0.0082\n",
       "honda           0.0081\n",
       "other cars      0.0074\n",
       "kia             0.0073\n",
       "alfa_romeo      0.0068\n",
       "suzuki          0.0060\n",
       "chevrolet       0.0055\n",
       "chrysler        0.0037\n",
       "porsche         0.0033\n",
       "dacia           0.0027\n",
       "daihatsu        0.0023\n",
       "subaru          0.0023\n",
       "jeep            0.0022\n",
       "land_rover      0.0017\n",
       "saab            0.0017\n",
       "jaguar          0.0015\n",
       "daewoo          0.0013\n",
       "rover           0.0012\n",
       "trabant         0.0011\n",
       "lancia          0.0011\n",
       "lada            0.0005\n",
       "Name: proportion, dtype: float64"
      ]
     },
     "execution_count": 44,
     "metadata": {},
     "output_type": "execute_result"
    }
   ],
   "source": [
    "autos[\"brand\"].value_counts(normalize=True)"
   ]
  },
  {
   "cell_type": "markdown",
   "metadata": {},
   "source": [
    "Now we can see that **Volkswagen cars** take up **almost 22%** of all cars in terms of brand. The #2 most popular, BMW, takes up a little over half of that, at about 11%. \n",
    "\n",
    "However, _'other_cars'_ is a category on eBay that includes various brands of cars. Therefore, we'll want to exclude rows with this value from further analyses:"
   ]
  },
  {
   "cell_type": "code",
   "execution_count": 45,
   "metadata": {},
   "outputs": [],
   "source": [
    "filtered_autos_brands = autos[autos[\"brand\"] != \"other_cars\"]"
   ]
  },
  {
   "cell_type": "markdown",
   "metadata": {},
   "source": [
    " Let's see what percentage of cars the ten most popular brands account for, without including `other_cars`."
   ]
  },
  {
   "cell_type": "code",
   "execution_count": 46,
   "metadata": {},
   "outputs": [
    {
     "name": "stdout",
     "output_type": "stream",
     "text": [
      "0.8071102965364912\n"
     ]
    }
   ],
   "source": [
    "top_10_brand_proportion = filtered_autos_brands[\"brand\"].value_counts(normalize=True).head(10).sum()\n",
    "print(top_10_brand_proportion)"
   ]
  },
  {
   "cell_type": "markdown",
   "metadata": {},
   "source": [
    "So, the top 10 brands amounts to **81%** of all brands, so we will focus on these brands moving forward. Over half of these brands are German or use German engines, at least, and all 10 brands are European in origin. This makes sense, given that Germany is a European country.\n",
    "\n",
    "Aggregation will occur across all brands for completeness' sake, but the majority of consequent analysis will be focussed on the top 10 brands."
   ]
  },
  {
   "cell_type": "code",
   "execution_count": 47,
   "metadata": {},
   "outputs": [],
   "source": [
    "# Saving the top 10 brands to a variable, in case we wind up needing it later\n",
    "top_10_brands = filtered_autos_brands[\"brand\"].value_counts().head(10).index"
   ]
  },
  {
   "cell_type": "markdown",
   "metadata": {},
   "source": [
    "### Aggregating average price per brand\n",
    "Let's now find out what the average price per brand is."
   ]
  },
  {
   "cell_type": "code",
   "execution_count": 48,
   "metadata": {},
   "outputs": [
    {
     "name": "stdout",
     "output_type": "stream",
     "text": [
      "audi             8599\n",
      "mercedes_benz    8002\n",
      "bmw              7869\n",
      "volkswagen       5435\n",
      "seat             4586\n",
      "ford             3756\n",
      "peugeot          3201\n",
      "opel             3062\n",
      "fiat             2892\n",
      "renault          2592\n",
      "dtype: int64\n"
     ]
    }
   ],
   "source": [
    "# Creating an empty dictionary to hold aggregate data\n",
    "price_per_brand = {}\n",
    "\n",
    "# Looping through the top 10 brands and calculating the mean price for each\n",
    "for brand in top_10_brands:\n",
    "    brand_only = autos[autos[\"brand\"] == brand] # Filtering the DataFrame for the current brand\n",
    "    mean_price = brand_only[\"price\"].mean() # Calculating the mean price for the current brand\n",
    "    price_per_brand[brand] = int(mean_price) # Adding the mean price to the dictionary\n",
    "\n",
    "# Converting the dictionary to a Series and sorting it in descending order\n",
    "price_per_brand_series = pd.Series(price_per_brand).sort_values(ascending=False)\n",
    "\n",
    "print(price_per_brand_series)"
   ]
  },
  {
   "cell_type": "markdown",
   "metadata": {},
   "source": [
    "Now we can see that **audi** is the priciest brand among the top 10 most popular brands during the time window of early August 2015 to early April 2016, peaking at a mean price of $8503 per car, with **Renault** being the cheapest on average at $2558. Meanwhile, **Volkswagen** sits around the middle, averaging at $5369,92.\n",
    "\n",
    "Let's now get an idea of the average mileage of cars belonging to the top 10 most popular brands, and then combine the consequent Series object with the `price_per_brand_series` to see how mileage affects the price (and, who knows, maybe vice versa)."
   ]
  },
  {
   "cell_type": "markdown",
   "metadata": {},
   "source": [
    "## Analysing average mileage per brand"
   ]
  },
  {
   "cell_type": "code",
   "execution_count": 49,
   "metadata": {},
   "outputs": [
    {
     "name": "stdout",
     "output_type": "stream",
     "text": [
      "bmw              133690\n",
      "mercedes_benz    132090\n",
      "audi             130881\n",
      "opel             129229\n",
      "volkswagen       128648\n",
      "renault          127101\n",
      "peugeot          126312\n",
      "ford             124526\n",
      "seat             120835\n",
      "fiat             116511\n",
      "dtype: int64\n"
     ]
    }
   ],
   "source": [
    "# Creating an empty dictionary to hold aggregate data\n",
    "mileage_per_brand = {}\n",
    "\n",
    "# Looping through the top 10 brands and calculating the mean mileage for each\n",
    "for brand in top_10_brands:\n",
    "    brand_only = autos[autos[\"brand\"] == brand] # Filtering the DataFrame for the current brand\n",
    "    mean_mileage = brand_only[\"odometer_km\"].mean() # Calculating the mean mileage for the current brand\n",
    "    mileage_per_brand[brand] = int(mean_mileage) # Adding the mean mileage to the dictionary\n",
    "\n",
    "# Converting the dictionary to a Series and sorting it in descending order\n",
    "mileage_per_brand_series = pd.Series(mileage_per_brand).sort_values(ascending=False)\n",
    "\n",
    "print(mileage_per_brand_series)"
   ]
  },
  {
   "cell_type": "markdown",
   "metadata": {},
   "source": [
    "We can now see that there is a 2000 kilometer gap between a _Land Rover's_ average mileage (134391,89 km), and that of a _Mini_ (89399,51 km).\n",
    "\n",
    "What does this mean in relation to the price, however? What happens to price as mileage goes up among the top 10 most popular brands, and vice versa?\n",
    "\n",
    "Let's turn the two series into a single DataFrame, and see for ourselves."
   ]
  },
  {
   "cell_type": "markdown",
   "metadata": {},
   "source": [
    "### Creating new DataFrame: most popular brands and their avg mileages and avg prices"
   ]
  },
  {
   "cell_type": "code",
   "execution_count": 50,
   "metadata": {},
   "outputs": [
    {
     "name": "stdout",
     "output_type": "stream",
     "text": [
      "               Average Mileage  Average Price\n",
      "fiat                    116511           2892\n",
      "seat                    120835           4586\n",
      "ford                    124526           3756\n",
      "peugeot                 126312           3201\n",
      "renault                 127101           2592\n",
      "volkswagen              128648           5435\n",
      "opel                    129229           3062\n",
      "audi                    130881           8599\n",
      "mercedes_benz           132090           8002\n",
      "bmw                     133690           7869\n"
     ]
    }
   ],
   "source": [
    "# Create a new DataFrame from the two series\n",
    "brand_info = pd.DataFrame({\n",
    "    \"Average Mileage\": mileage_per_brand_series,\n",
    "    \"Average Price\": price_per_brand_series\n",
    "})\n",
    "\n",
    "# Sort the DataFrame by \"Average Price\" in descending order\n",
    "brand_info_sorted = brand_info.sort_values(by=\"Average Mileage\", ascending=True)\n",
    "\n",
    "# Display the sorted DataFrame\n",
    "print(brand_info_sorted)"
   ]
  },
  {
   "cell_type": "markdown",
   "metadata": {},
   "source": [
    "The range of mileages doesn't vary so much in the top 10 most popular brands, with 116805 kilometers for _Fiat_, and 133799 km for _BMW_. That puts them only about 2000 kilometers apart.\n",
    "\n",
    "Interestingly enough, Fiat is the second-to-lowest priced brand on average in this DataFrame (at about $2895 on average), while BMW is the third most expensive on average at $7816. "
   ]
  },
  {
   "cell_type": "markdown",
   "metadata": {},
   "source": [
    "## Analysing popular brand and vehicle type combinations\n",
    "Now, it might be interesting to get an idea of what vehicle types are popular as well, and especially in combination with what brands. This would be particularly useful for people who sell cars for a living – to assess 'competition' on eBay, and potentially get an idea for the existing supply and find gaps therein.\n",
    "\n",
    "For brevity's sake, we'll use the `top_10_brands` variable, rather than looking at all 40 brands in the dataset (or 39, if we're leaving `other_cars` aside)."
   ]
  },
  {
   "cell_type": "code",
   "execution_count": 51,
   "metadata": {},
   "outputs": [
    {
     "name": "stdout",
     "output_type": "stream",
     "text": [
      "volkswagen               sedan\n",
      "bmw                      sedan\n",
      "opel                 supermini\n",
      "mercedes_benz            sedan\n",
      "audi             station wagon\n",
      "ford                 supermini\n",
      "renault              supermini\n",
      "peugeot              supermini\n",
      "fiat                 supermini\n",
      "seat                 supermini\n",
      "dtype: object\n"
     ]
    }
   ],
   "source": [
    "# Creating an empty dictionary to hold aggregate data\n",
    "vehicle_type_per_brand = {}\n",
    "\n",
    "# Looping through the top 10 brands and calculating the most common vehicle type for each\n",
    "for brand in top_10_brands:\n",
    "    brand_only = autos[autos[\"brand\"] == brand]  # Filtering the DataFrame for the current brand\n",
    "    vehicle_type_mode = brand_only[\"vehicle_type\"].mode()  # Calculating the most common vehicle type for the current brand\n",
    "    vehicle_type_per_brand[brand] = vehicle_type_mode[0]  # Adding the most common vehicle type to the dictionary\n",
    "\n",
    "# Converting the dictionary to a Series and sorting it\n",
    "vehicle_type_per_brand_series = pd.Series(vehicle_type_per_brand)\n",
    "\n",
    "print(vehicle_type_per_brand_series)"
   ]
  },
  {
   "cell_type": "markdown",
   "metadata": {},
   "source": [
    "The clear 'winner' here is the supermini: a compact type of car often seen in urban areas in Europe, because it's easy to move around the tight streets of old cities and villages."
   ]
  },
  {
   "cell_type": "markdown",
   "metadata": {},
   "source": [
    "## Analysing the relation between mileage and price\n",
    "To make the data in the `odometer_km` a little more easy to manage, we'll first split it into groups. After that, we'll use the `groupby()` method to group the price data by these odometer groups.\n",
    "\n",
    "Let's first check out what the distribution of the `odometer_km` values looks like."
   ]
  },
  {
   "cell_type": "code",
   "execution_count": 52,
   "metadata": {},
   "outputs": [
    {
     "data": {
      "text/plain": [
       "count    42558.0000\n",
       "mean    126242.0696\n",
       "std      38799.6318\n",
       "min       5000.0000\n",
       "25%     125000.0000\n",
       "50%     150000.0000\n",
       "75%     150000.0000\n",
       "max     150000.0000\n",
       "Name: odometer_km, dtype: float64"
      ]
     },
     "execution_count": 52,
     "metadata": {},
     "output_type": "execute_result"
    }
   ],
   "source": [
    "autos[\"odometer_km\"].describe()"
   ]
  },
  {
   "cell_type": "markdown",
   "metadata": {},
   "source": [
    "Based on this, we might want to divide odometer data as follows:"
   ]
  },
  {
   "cell_type": "code",
   "execution_count": 53,
   "metadata": {},
   "outputs": [
    {
     "name": "stdout",
     "output_type": "stream",
     "text": [
      "odometer_group\n",
      "0-20k       11351.9048\n",
      "20k-40k     13363.0753\n",
      "40k-60k     11483.4460\n",
      "60k-80k      9795.5173\n",
      "80k-100k     7897.6488\n",
      "100k-120k          NaN\n",
      "120k-140k    5967.4538\n",
      "140k-160k    3795.2401\n",
      "Name: price, dtype: float64\n"
     ]
    },
    {
     "name": "stderr",
     "output_type": "stream",
     "text": [
      "/var/folders/z4/3sk68njj2_s65s5s73mlpdsr0000gn/T/ipykernel_14660/1431629638.py:9: FutureWarning: The default of observed=False is deprecated and will be changed to True in a future version of pandas. Pass observed=False to retain current behavior or observed=True to adopt the future default and silence this warning.\n",
      "  average_prices_per_group = autos.groupby(\"odometer_group\")[\"price\"].mean()\n"
     ]
    }
   ],
   "source": [
    "# Defining the odometer_km ranges to group the price data by\n",
    "bins = [0, 20000, 40000, 60000, 80000, 100000, 120000, 140000, 160000]\n",
    "labels = [\"0-20k\", \"20k-40k\", \"40k-60k\", \"60k-80k\", \"80k-100k\", \"100k-120k\", \"120k-140k\", \"140k-160k\"]\n",
    "\n",
    "# Categorising the odometer_km data into the defined ranges\n",
    "autos[\"odometer_group\"] = pd.cut(autos[\"odometer_km\"], bins=bins, labels=labels)\n",
    "\n",
    "# Grouping the prices by odometer_group and calculating the average price for each group\n",
    "average_prices_per_group = autos.groupby(\"odometer_group\")[\"price\"].mean()\n",
    "\n",
    "# Displaying the average prices per odometer_group\n",
    "print(average_prices_per_group)"
   ]
  },
  {
   "cell_type": "markdown",
   "metadata": {},
   "source": [
    "Interestingly, it seems there are no data points in the 100k-120k range. Let's see if this has to do with missing data points (i.e. no cars labelled between these prices):"
   ]
  },
  {
   "cell_type": "code",
   "execution_count": 54,
   "metadata": {},
   "outputs": [
    {
     "data": {
      "text/plain": [
       "odometer_group\n",
       "140k-160k    27465\n",
       "120k-140k     4559\n",
       "80k-100k      3425\n",
       "60k-80k       2399\n",
       "40k-60k       1971\n",
       "20k-40k       1394\n",
       "0-20k         1345\n",
       "100k-120k        0\n",
       "Name: count, dtype: int64"
      ]
     },
     "execution_count": 54,
     "metadata": {},
     "output_type": "execute_result"
    }
   ],
   "source": [
    "autos[\"odometer_group\"].value_counts()"
   ]
  },
  {
   "cell_type": "markdown",
   "metadata": {},
   "source": [
    "Though surprising, it isn't entirely impossible that there should be no car with 100k - 120k km on their odometer. These cars might have sold faster than the crawler could keep up with, as these price ranges often present a very appealing price-to-quality ratio: cars within this range of kilometers on the odometer tend to be cheap, but not driven to the point of wear-and-tear becoming a big issue.\n",
    "\n",
    "Either way, looking at the original print-out of `average_prices_per_group`, we can see the following:\n",
    "\n",
    "- The price follows the expected trend: as the number of kilometers on the odometer go up, the price goes down. After 60k, and even more so after 80k, prices start to plummet.\n",
    "- Interestingly, between 0 - 60k kilometers, the prices don't fluctuate much.\n",
    "- In fact, between 0 - 20k kilometers on the odometer costs less than cars with between 20k - 40k."
   ]
  },
  {
   "cell_type": "markdown",
   "metadata": {},
   "source": [
    "## Analysing the relation between price and unrepaired damage\n",
    "How much cheaper are cars with damage than their non-damaged counterparts (on average)? We can find out by comparing the mean prices of cars with unrepaired damage, and the mean prices of those without unrepaired damage."
   ]
  },
  {
   "cell_type": "code",
   "execution_count": 55,
   "metadata": {},
   "outputs": [
    {
     "name": "stdout",
     "output_type": "stream",
     "text": [
      "Average price for damaged cars: $2186.40\n",
      "Average price for undamaged cars: $6524.28\n"
     ]
    }
   ],
   "source": [
    "# Grouping the data by unrepaired_damage and saving the groups to separate variables\n",
    "damaged = autos[autos[\"unrepaired_damage\"] == \"yes\"]\n",
    "undamaged = autos[autos[\"unrepaired_damage\"] == \"no\"]\n",
    "\n",
    "# Calculating the average price for damaged and undamaged cars\n",
    "average_price_damaged = damaged[\"price\"].mean()\n",
    "average_price_undamaged = undamaged[\"price\"].mean()\n",
    "\n",
    "# Displaying the average prices for damaged and undamaged cars, with 2 decimal places\n",
    "print(f\"Average price for damaged cars: ${average_price_damaged:.2f}\")\n",
    "print(f\"Average price for undamaged cars: ${average_price_undamaged:.2f}\")"
   ]
  },
  {
   "cell_type": "markdown",
   "metadata": {},
   "source": [
    "That is a pretty stark difference. Undamaged cars are about three times more expensive on average than damaged ones. However, the CSV file contains no information about the nature of the damage. As such, this column likely includes cars that are being sold for parts or have other extensive damage that car enthusiasts might want to fix themselves – as well as cars with comparatively minor damage, such as scratches.\n",
    "\n",
    "As such, it's hard to determine whether a seller will get the most out of their car sale with or without first repairing any damages."
   ]
  },
  {
   "cell_type": "markdown",
   "metadata": {},
   "source": [
    "## Conclusion\n",
    "\n",
    "In this analysis, we worked with a dataset containing information about used cars. We performed data cleaning and analysis to gain insights into the dataset.\n",
    "\n",
    "First, we cleaned the dataset by removing irrelevant columns and handling missing values. We also converted some columns to the appropriate data types.\n",
    "\n",
    "Next, we analyzed the dataset to understand the distribution of car brands. We found that the top 10 most popular brands accounted for 81% of all brands. Among these brands, Audi had the highest average price, while Renault had the lowest average price.\n",
    "\n",
    "We also explored various relations between various data points.\n",
    "\n",
    "1.  between mileage and price. \n",
    "    - There was a slight variation in mileage among the top 10 popular brands, with Fiat having the lowest average mileage and BMW having the highest.\n",
    "    - This type of information is useful for those looking for cars with the lowest possible mileage.\n",
    "\n",
    "2. Popular brand and vehicle type combinations:\n",
    "    - The most common vehicle type among the top 10 most popular brands is the supermini, followed by sedans and vans.\n",
    "    - This information can be useful for car sellers to understand the competition on platforms like eBay and assess the existing supply in the market.\n",
    "\n",
    "3. Relation between mileage and price:\n",
    "    - There is a clear relationship between mileage and price. As the number of kilometers on the odometer increases, the price tends to decrease.\n",
    "    - Between 0-60k kilometers, the prices don't fluctuate much, but after 60k and especially after 80k, prices start to decrease significantly.\n",
    "    - This information can be valuable for both car buyers and sellers. Buyers can use it to negotiate prices based on mileage, and sellers can set competitive prices based on the mileage of their vehicles.\n",
    "\n",
    "4. Relation between price and unrepaired damage:\n",
    "    - Cars with unrepaired damage are significantly cheaper on average compared to undamaged cars.\n",
    "    - The average price of damaged cars is approximately 3 times lower than that of undamaged cars.\n",
    "    - However, it's important to note that the dataset does not provide information about the nature or extent of the damage.\n",
    "    - Sellers should consider whether repairing the damage before selling will result in a higher selling price, as some buyers may prefer to purchase undamaged cars.\n",
    "\n",
    "These analyses provide valuable insights into the used car market in Germany. The information can be used by car buyers and sellers to make informed decisions about pricing, brand preferences, and the impact of mileage and damage on prices. Additionally, researchers and analysts can utilize this data to study market trends and patterns in the automotive industry."
   ]
  }
 ],
 "metadata": {
  "kernelspec": {
   "display_name": "Python 3",
   "language": "python",
   "name": "python3"
  },
  "language_info": {
   "codemirror_mode": {
    "name": "ipython",
    "version": 3
   },
   "file_extension": ".py",
   "mimetype": "text/x-python",
   "name": "python",
   "nbconvert_exporter": "python",
   "pygments_lexer": "ipython3",
   "version": "3.11.2"
  }
 },
 "nbformat": 4,
 "nbformat_minor": 2
}
