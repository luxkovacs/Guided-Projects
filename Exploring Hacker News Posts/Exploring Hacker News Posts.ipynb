{
 "cells": [
  {
   "cell_type": "markdown",
   "id": "6afd5127-2397-4fd6-9c03-d404ac75cb13",
   "metadata": {},
   "source": [
    "# Uncovering how types and timings of HN posts affect engagement\n",
    "\n",
    "This project seeks to reveal two things about _Hacker News_ posts:\n",
    "\n",
    "1. If 'Ask HN' or 'Show HN' posts receive more comments\n",
    "2. If posts created at a certain time receive more engagement on average than those created at other times\n",
    "\n",
    "With this information, content creators and social media managers – for instance – will have valuable insight into what content receives the most traction, and at what times it performs best.\n",
    "\n",
    "The dataset 'Hacker News.csv' – a shortened 20.000 entry-file, rather than the massive 300.000+ entry file – contains the following columns that'll help us find the answers hereto:\n",
    "\n",
    "- `id` – a unique ID attached to each individual post\n",
    "- `title` – the title of each post\n",
    "- `url` – the url to which each post links (where applicable)\n",
    "- `num_points` – the total number of points per post, after subtracting downvotes from upvotes\n",
    "- `num_comments` - the number of comments per post\n",
    "- `author` – the username of the person that created the post\n",
    "- `created_at` – the date and time of the post's creation"
   ]
  },
  {
   "cell_type": "markdown",
   "id": "930e0fc8-3961-4deb-a693-e4cf8091b169",
   "metadata": {},
   "source": [
    "## Preparing the data\n",
    "First we'll import the relevant modules, verify the data is displaying well, and removing the header row, as this will only get in the way during later analyses."
   ]
  },
  {
   "cell_type": "code",
   "execution_count": 3,
   "id": "759326c6-d2f3-4d2f-bb3f-d3f025137370",
   "metadata": {},
   "outputs": [],
   "source": [
    "# Importing modules\n",
    "from csv import reader\n",
    "from pprint import pprint # for easier list reading\n",
    "import datetime as dt\n",
    "\n",
    "# Opening the dataset as a list of lists\n",
    "opened_file = open(\"/Users/lux/Library/CloudStorage/GoogleDrive-lucasknowak@gmail.com/My Drive/School/DataQuest/Guided Projects/Exploring Hacker News Posts/Hacker News.csv\")\n",
    "read_file = reader(opened_file)\n",
    "hn = list(read_file)\n",
    "\n",
    "# Showing the first five rows – commented to save space\n",
    "# pprint(hn[:5])"
   ]
  },
  {
   "cell_type": "code",
   "execution_count": 4,
   "id": "07dcd6ea-f896-4698-adc9-cbce19cc55ce",
   "metadata": {},
   "outputs": [
    {
     "name": "stdout",
     "output_type": "stream",
     "text": [
      "Header:\n",
      " ['id', 'title', 'url', 'num_points', 'num_comments', 'author', 'created_at']\n",
      "First five rows:\n",
      "\n",
      "[['12224879',\n",
      "  'Interactive Dynamic Video',\n",
      "  'http://www.interactivedynamicvideo.com/',\n",
      "  '386',\n",
      "  '52',\n",
      "  'ne0phyte',\n",
      "  '8/4/2016 11:52'],\n",
      " ['10975351',\n",
      "  'How to Use Open Source and Shut the Fuck Up at the Same Time',\n",
      "  'http://hueniverse.com/2016/01/26/how-to-use-open-source-and-shut-the-fuck-up-at-the-same-time/',\n",
      "  '39',\n",
      "  '10',\n",
      "  'josep2',\n",
      "  '1/26/2016 19:30'],\n",
      " ['11964716',\n",
      "  \"Florida DJs May Face Felony for April Fools' Water Joke\",\n",
      "  'http://www.thewire.com/entertainment/2013/04/florida-djs-april-fools-water-joke/63798/',\n",
      "  '2',\n",
      "  '1',\n",
      "  'vezycash',\n",
      "  '6/23/2016 22:20'],\n",
      " ['11919867',\n",
      "  'Technology ventures: From Idea to Enterprise',\n",
      "  'https://www.amazon.com/Technology-Ventures-Enterprise-Thomas-Byers/dp/0073523429',\n",
      "  '3',\n",
      "  '1',\n",
      "  'hswarna',\n",
      "  '6/17/2016 0:01'],\n",
      " ['10301696',\n",
      "  'Note by Note: The Making of Steinway L1037 (2007)',\n",
      "  'http://www.nytimes.com/2007/11/07/movies/07stein.html?_r=0',\n",
      "  '8',\n",
      "  '2',\n",
      "  'walterbell',\n",
      "  '9/30/2015 4:12']]\n"
     ]
    }
   ],
   "source": [
    "# Removing headers so we're left with the bare data\n",
    "headers = hn[0]\n",
    "hn = hn[1:]\n",
    "\n",
    "print('Header:\\n', headers)\n",
    "print('First five rows:\\n')\n",
    "pprint(hn[:5])"
   ]
  },
  {
   "cell_type": "markdown",
   "id": "8810c9a7-57d0-439e-8826-08f35ad85405",
   "metadata": {},
   "source": [
    "## Filtering out irrelevant posts\n",
    "Because we're only interested in two specific types of posts, '_Ask HN_' and '_Show HN_', we're going to filter out any posts _not_ starting with either of those two short phrases. The posts that remain, we'll place in new lists: one for ask posts, one for show posts, and one for other types of posts."
   ]
  },
  {
   "cell_type": "code",
   "execution_count": 6,
   "id": "ef45ad40-f2ef-4e22-a31d-98896c33bada",
   "metadata": {},
   "outputs": [
    {
     "name": "stdout",
     "output_type": "stream",
     "text": [
      "Number of ask posts: 1744\n",
      "Number of short posts: 1162\n",
      "Number of other posts: 17194\n"
     ]
    }
   ],
   "source": [
    "ask_posts = []\n",
    "show_posts = []\n",
    "other_posts = []\n",
    "\n",
    "for row in hn:\n",
    "    title = row[1]\n",
    "    if title.lower().startswith('ask hn'):\n",
    "        ask_posts.append(row)\n",
    "    elif title.lower().startswith('show hn'):\n",
    "        show_posts.append(row)\n",
    "    else:\n",
    "        other_posts.append(row)\n",
    "\n",
    "print('Number of ask posts:', len(ask_posts))\n",
    "print('Number of short posts:',len(show_posts))\n",
    "print('Number of other posts:',len(other_posts))"
   ]
  },
  {
   "cell_type": "markdown",
   "id": "2ac936bb-dd26-4cd0-9c18-0c7654de6e74",
   "metadata": {},
   "source": [
    "To confirm that the lists contain the right types of questions, we'll also (p)print the first five items of each list of question types. ⤵️ ( Or, rather, the code to do so will be left below in commented form to save space! )"
   ]
  },
  {
   "cell_type": "code",
   "execution_count": 8,
   "id": "f7e581ba-4158-4870-a160-58fc8cfd0cca",
   "metadata": {},
   "outputs": [],
   "source": [
    "# pprint(ask_posts[:5])\n",
    "# pprint(show_posts[:5])\n",
    "# pprint(other_posts[:5])"
   ]
  },
  {
   "cell_type": "markdown",
   "id": "6e23e06b-19b6-4a9b-9c09-b5fe1d3846ed",
   "metadata": {},
   "source": [
    "## Ask HN posts vs show HN posts: Which type gets more comments?\n",
    "To find out whether ask posts or show posts get more comments, we'll look at the total number of comments in each category, and then we'll calculate the average number of comment per post within the corresponding category ('ask HN' or 'show HN')."
   ]
  },
  {
   "cell_type": "code",
   "execution_count": 10,
   "id": "fa11b98c-c9c2-416b-bf8e-c04e03f2e3f5",
   "metadata": {},
   "outputs": [
    {
     "name": "stdout",
     "output_type": "stream",
     "text": [
      "Total ask comments: 24483\n",
      "Average number of comments per ask post: 14.04\n"
     ]
    }
   ],
   "source": [
    "# Calculating total ask comments and average comment per ask post\n",
    "total_ask_comments = 0\n",
    "\n",
    "for row in ask_posts:\n",
    "    num_comment = row[4]\n",
    "    num_comment = int(num_comment)\n",
    "    total_ask_comments += num_comment\n",
    "\n",
    "print('Total ask comments:', total_ask_comments)\n",
    "\n",
    "avg_ask_comments = total_ask_comments / len(ask_posts)\n",
    "print('Average number of comments per ask post:', round(avg_ask_comments, 2))\n",
    "# Rounding for the sake of readability and practicality"
   ]
  },
  {
   "cell_type": "code",
   "execution_count": 11,
   "id": "48ab84dc-422f-4ad2-a9bf-e14524370142",
   "metadata": {},
   "outputs": [
    {
     "name": "stdout",
     "output_type": "stream",
     "text": [
      "Total show comments: 11988\n",
      "Average number of comments per show post: 10.32\n"
     ]
    }
   ],
   "source": [
    "# Calculating total show comments and average comment per show post\n",
    "total_show_comments = 0\n",
    "\n",
    "for row in show_posts:\n",
    "    num_comment = row[4]\n",
    "    num_comment = int(num_comment)\n",
    "    total_show_comments += num_comment\n",
    "\n",
    "print('Total show comments:', total_show_comments)\n",
    "\n",
    "avg_show_comments = total_show_comments / len(show_posts)\n",
    "print('Average number of comments per show post:', round(avg_show_comments, 2))\n",
    "# Rounding for the sake of readability and practicality"
   ]
  },
  {
   "cell_type": "markdown",
   "id": "9e7c5c3f-ae70-4c89-a1e2-d211c9c8ca6f",
   "metadata": {},
   "source": [
    "We have a winner: **ask posts**, with an average of 14 per ask post, versus about 10 per show HN post. There could be several reasons for this, but what first comes to mind is that a question _invites_ people to answer more so than a statement or a showcase does. It invites sharing one's opinion and/or expertise quite directly.\n",
    "\n",
    "Either way, this gives our hypothetical content creator or social media manager an idea of what type of post to prioritise when considering their strategy on _Hacker News_."
   ]
  },
  {
   "cell_type": "markdown",
   "id": "79cd9f00-95c2-4463-9bbd-d2745b6b256a",
   "metadata": {},
   "source": [
    "## Calculating the number of ask posts and comments by 'Hour Created'\n",
    "Since we've identified ask posts in specific as our area of interest, we'll focus the rest of our analysis on these posts.\n",
    "\n",
    "The next step is therefore determining if ask posts created at a certain _time_ are more likely to receive comments. To that end, we'll do the following:\n",
    "\n",
    "- Determine the number of ask posts created in each hour of the day, as well as the number of comments received in that time\n",
    "- Calculate the average number of comments on ask posts _by hour created_\n",
    "\n",
    "We've already imported the daytime module (as `dt`), so we can work with the data in the `created_at` column of our dataset."
   ]
  },
  {
   "cell_type": "code",
   "execution_count": 14,
   "id": "9afbc8ba-2efb-4448-9328-e2f706fe3eef",
   "metadata": {},
   "outputs": [
    {
     "name": "stdout",
     "output_type": "stream",
     "text": [
      "Number of ask posts by hour created: {'09': 45, '13': 85, '10': 59, '14': 107, '16': 108, '23': 68, '12': 73, '17': 100, '15': 116, '21': 109, '20': 80, '02': 58, '18': 109, '03': 54, '05': 46, '19': 110, '01': 60, '22': 71, '08': 48, '04': 47, '00': 55, '06': 44, '07': 34, '11': 58} \n",
      "\n",
      "Number of comments by hour created: {'09': 251, '13': 1253, '10': 793, '14': 1416, '16': 1814, '23': 543, '12': 687, '17': 1146, '15': 4477, '21': 1745, '20': 1722, '02': 1381, '18': 1439, '03': 421, '05': 464, '19': 1188, '01': 683, '22': 479, '08': 492, '04': 337, '00': 447, '06': 397, '07': 267, '11': 641} \n",
      "\n"
     ]
    }
   ],
   "source": [
    "# Filtering out at what time each individual post in 'ask_posts' was created\n",
    "result_list = [] # Empty list the relevant data will go into\n",
    "\n",
    "for row in ask_posts:\n",
    "    created_at = row[6]\n",
    "    num_comment = row[4]\n",
    "    result_list.append([created_at, int(num_comment)])\n",
    "\n",
    "# pprint(result_list[:5]) – Commented print; used to verify if the list came out as intended\n",
    "    \n",
    "# Calculating the average number of comments received by hour created\n",
    "# Starting with empty dictionaries all relevant data will go into\n",
    "counts_by_hour = {}\n",
    "comments_by_hour = {}\n",
    "\n",
    "for row in result_list: \n",
    "    date_and_hour_string = row[0]\n",
    "    date_and_hour_dt = dt.datetime.strptime(date_and_hour_string, \"%m/%d/%Y %H:%M\") # Turning the string into a datetime object\n",
    "    hour = dt.datetime.strftime(date_and_hour_dt, \"%H\") # extracting the hour\n",
    "    comments_num = row[1]\n",
    "    if hour not in counts_by_hour:\n",
    "        counts_by_hour[hour] = 1\n",
    "        comments_by_hour[hour] = comments_num\n",
    "    else:\n",
    "        counts_by_hour[hour] += 1\n",
    "        comments_by_hour[hour] += comments_num\n",
    "\n",
    "print('Number of ask posts by hour created:', counts_by_hour, '\\n') \n",
    "print('Number of comments by hour created:', comments_by_hour, '\\n')"
   ]
  },
  {
   "cell_type": "markdown",
   "id": "e3322334-fb36-486a-89c8-1baead13c65a",
   "metadata": {},
   "source": [
    "With the `counts_by_hour` and `comments_by_hour` dictionaries in place, we can work on a final list that will display the average number of comments per hour. This will reveal what the most opportune times are to post an _ask HN_ post on Hacker News if your goal is to maximise engagement (measured through the number of comments your post receives).\n",
    "\n",
    "So far, 15h (3 pm) seems the most popular time, but let's figure out averages by taking into account the number of posts that were made by hour, too.\n",
    "\n",
    "We start off with an empty list once more, which we'll populate with our findings."
   ]
  },
  {
   "cell_type": "code",
   "execution_count": 16,
   "id": "e4d95f13-2f3b-47da-bce2-d4199c1a8b74",
   "metadata": {},
   "outputs": [
    {
     "name": "stdout",
     "output_type": "stream",
     "text": [
      "[['09', 5.5777777777777775],\n",
      " ['13', 14.741176470588234],\n",
      " ['10', 13.440677966101696],\n",
      " ['14', 13.233644859813085],\n",
      " ['16', 16.796296296296298],\n",
      " ['23', 7.985294117647059],\n",
      " ['12', 9.41095890410959],\n",
      " ['17', 11.46],\n",
      " ['15', 38.5948275862069],\n",
      " ['21', 16.009174311926607],\n",
      " ['20', 21.525],\n",
      " ['02', 23.810344827586206],\n",
      " ['18', 13.20183486238532],\n",
      " ['03', 7.796296296296297],\n",
      " ['05', 10.08695652173913],\n",
      " ['19', 10.8],\n",
      " ['01', 11.383333333333333],\n",
      " ['22', 6.746478873239437],\n",
      " ['08', 10.25],\n",
      " ['04', 7.170212765957447],\n",
      " ['00', 8.127272727272727],\n",
      " ['06', 9.022727272727273],\n",
      " ['07', 7.852941176470588],\n",
      " ['11', 11.051724137931034]]\n"
     ]
    }
   ],
   "source": [
    "avg_by_hour = []\n",
    "\n",
    "for hour in comments_by_hour:\n",
    "    avg_by_hour.append([hour, comments_by_hour[hour] / counts_by_hour[hour]])\n",
    "\n",
    "pprint(avg_by_hour)"
   ]
  },
  {
   "cell_type": "markdown",
   "id": "bc17b8bf-36d9-4308-ad9f-da0ec1141f6b",
   "metadata": {},
   "source": [
    "This is the information we're after – but it's hard to read, given that the list is out of order. We have two options here: we can sort by time, or by average comment by hour. Given the intent behind this project and the audience this information is meant for – creative strategists who want to know _what the best time to post (ask HN posts) on Hacker News is_ –, we'll sort by average number of comments, and limit the output to the first five results.\n",
    "\n",
    "That will bring the answer to the central question to the top of the list.\n",
    "\n",
    "First, we make the number of comments and the hour swap places in the list, so that the number of comments is shown first."
   ]
  },
  {
   "cell_type": "code",
   "execution_count": 18,
   "id": "0d487fb2-fe97-4093-b5aa-107c96c2a8eb",
   "metadata": {},
   "outputs": [
    {
     "name": "stdout",
     "output_type": "stream",
     "text": [
      "[[5.5777777777777775, '09'],\n",
      " [14.741176470588234, '13'],\n",
      " [13.440677966101696, '10'],\n",
      " [13.233644859813085, '14'],\n",
      " [16.796296296296298, '16'],\n",
      " [7.985294117647059, '23'],\n",
      " [9.41095890410959, '12'],\n",
      " [11.46, '17'],\n",
      " [38.5948275862069, '15'],\n",
      " [16.009174311926607, '21'],\n",
      " [21.525, '20'],\n",
      " [23.810344827586206, '02'],\n",
      " [13.20183486238532, '18'],\n",
      " [7.796296296296297, '03'],\n",
      " [10.08695652173913, '05'],\n",
      " [10.8, '19'],\n",
      " [11.383333333333333, '01'],\n",
      " [6.746478873239437, '22'],\n",
      " [10.25, '08'],\n",
      " [7.170212765957447, '04'],\n",
      " [8.127272727272727, '00'],\n",
      " [9.022727272727273, '06'],\n",
      " [7.852941176470588, '07'],\n",
      " [11.051724137931034, '11']]\n"
     ]
    }
   ],
   "source": [
    "swap_avg_by_hour = [] # Empty list our data will go into\n",
    "\n",
    "for row in avg_by_hour:\n",
    "    hour = row[0]\n",
    "    comment = row[1]\n",
    "    swap_avg_by_hour.append([row[1], row[0]])\n",
    "\n",
    "pprint(swap_avg_by_hour)"
   ]
  },
  {
   "cell_type": "markdown",
   "id": "e4030897-fff6-4739-9f4f-f19b7fcd1439",
   "metadata": {},
   "source": [
    "We're getting there, but now it's time to actually sort the list and print the result (down to two decimals – again, for readability and practicality)!"
   ]
  },
  {
   "cell_type": "code",
   "execution_count": 20,
   "id": "807e3f72-73ae-44e0-b2ce-9f08a9fb9c9c",
   "metadata": {},
   "outputs": [
    {
     "name": "stdout",
     "output_type": "stream",
     "text": [
      "Top 5 hours for ask posts comments:\n",
      "15: 38.59 comments per post on average\n",
      "02: 23.81 comments per post on average\n",
      "20: 21.52 comments per post on average\n",
      "16: 16.80 comments per post on average\n",
      "21: 16.01 comments per post on average\n"
     ]
    }
   ],
   "source": [
    "sorted_swap = sorted(swap_avg_by_hour, reverse=True)\n",
    "print('Top 5 hours for ask posts comments:')\n",
    "\n",
    "for row in sorted_swap[:5]:\n",
    "    avg_comment = row[0]\n",
    "    hour = row[1]\n",
    "    hour_dt = dt.datetime.strptime(hour, '%H')\n",
    "    hour_formatted = dt.datetime.strftime(hour_dt, '%H')\n",
    "    print('{hour}: {comments:.2f} comments per post on average'.format(hour=hour_formatted, comments=avg_comment))"
   ]
  },
  {
   "cell_type": "markdown",
   "id": "0c9dfbd9-a21b-4e28-8521-7fe9d80b8fb0",
   "metadata": {},
   "source": [
    "## Conclusion\n",
    "In this notebook, we performed an analysis on a dataset containing posts from the Hacker News website. We began by cleaning and exploring the data, identifying the types of posts and their respective engagement levels. This revealed that the 'Ask HN' posts performed best in terms of attracting comments.\n",
    "\n",
    "We then focused on analyzing the \"Ask HN\" posts to determine if posts created at certain times attracted more comments in comparison to other times.\n",
    "\n",
    "We extracted the relevant data, parsed the dates, and calculated the average number of comments for posts created during each hour of the day. This allowed us to identify the best time to create a post to maximize engagement.\n",
    "\n",
    "Posts created **later in the day** – starting at 15h (3 PM) all the way to 02h (2 AM) – seem to perform best as far as garnering comments go."
   ]
  }
 ],
 "metadata": {
  "kernelspec": {
   "display_name": "Python 3 (ipykernel)",
   "language": "python",
   "name": "python3"
  },
  "language_info": {
   "codemirror_mode": {
    "name": "ipython",
    "version": 3
   },
   "file_extension": ".py",
   "mimetype": "text/x-python",
   "name": "python",
   "nbconvert_exporter": "python",
   "pygments_lexer": "ipython3",
   "version": "3.11.7"
  }
 },
 "nbformat": 4,
 "nbformat_minor": 5
}
